{
 "cells": [
  {
   "cell_type": "markdown",
   "metadata": {
    "papermill": {
     "duration": 0.02626,
     "end_time": "2021-06-04T18:05:12.493156",
     "exception": false,
     "start_time": "2021-06-04T18:05:12.466896",
     "status": "completed"
    },
    "tags": []
   },
   "source": [
    "Mentoring has been identified as an essential component in the development academic and profisional. \n",
    "\n",
    "The purpose is the better understanding of the mentoring experiences of graduate students enrolled at college. \n",
    "\n",
    "In this Notebook, used data analysis to provide personalized student mentoring, recommendations based on their profile.\n",
    "\n",
    "The dataset used in this exercise is based https://github.com/maratonadev-br/desafio-2-2020/tree/master/Assets/Data."
   ]
  },
  {
   "cell_type": "code",
   "execution_count": 1,
   "metadata": {
    "execution": {
     "iopub.execute_input": "2021-06-04T18:05:25.923804Z",
     "iopub.status.busy": "2021-06-04T18:05:25.923264Z",
     "iopub.status.idle": "2021-06-04T18:05:30.403759Z",
     "shell.execute_reply": "2021-06-04T18:05:30.402665Z"
    },
    "papermill": {
     "duration": 4.51824,
     "end_time": "2021-06-04T18:05:30.403900",
     "exception": false,
     "start_time": "2021-06-04T18:05:25.885660",
     "status": "completed"
    },
    "tags": []
   },
   "outputs": [],
   "source": [
    "import pandas as pd\n",
    "import numpy as np\n",
    "%matplotlib inline\n",
    "import matplotlib.pyplot as plt\n",
    "import seaborn as sns\n",
    "from sklearn.utils import class_weight\n",
    "from sklearn.model_selection import train_test_split\n",
    "from sklearn.metrics import confusion_matrix\n",
    "from sklearn.model_selection import cross_val_score\n",
    "from imblearn.ensemble import BalancedRandomForestClassifier\n",
    "from sklearn.metrics import classification_report"
   ]
  },
  {
   "cell_type": "markdown",
   "metadata": {},
   "source": [
    "Features :\n",
    "\n",
    "Student enrollment\n",
    "\n",
    "Name \n",
    "\n",
    "Number of  students that flunked  in the Business Law Discipline\n",
    "\n",
    "Number of  students that flunked in the Entrepreneurship Discipline\n",
    "\n",
    "Number of  students that flunked in the Financial Mathematics Discipline\n",
    "\n",
    "Number of students that flunked in the  Operational Management Discipline\n",
    "\n",
    "Grade point average of students in the Business Law Exam\n",
    "\n",
    "Grade point average of students in the Entrepreneurship Exam\n",
    "\n",
    "Grade point average of students in the Financial Mathematics Exam\n",
    "\n",
    "Grade point average of students in the Operational Management Exam\n",
    "\n",
    "English - Binary variable  that indicates If the student has  knowledge of the English Language (No==0 or Yes==1)\n",
    "\n",
    "Study time attendance completed by students\n",
    "\n",
    "Number of tasks handed online submission by students\n",
    "\n",
    "Number of students absent\n",
    "\n",
    "Target Variable Categorical:\n",
    "\n",
    "Profile \n",
    "\n",
    "Excellent\n",
    "\n",
    "Very Good\n",
    "\n",
    "Human\n",
    "\n",
    "Exact\n",
    "\n",
    "Difficulty"
   ]
  },
  {
   "cell_type": "code",
   "execution_count": 2,
   "metadata": {
    "execution": {
     "iopub.execute_input": "2021-06-04T18:05:30.468951Z",
     "iopub.status.busy": "2021-06-04T18:05:30.468391Z",
     "iopub.status.idle": "2021-06-04T18:05:30.530247Z",
     "shell.execute_reply": "2021-06-04T18:05:30.529354Z"
    },
    "papermill": {
     "duration": 0.098835,
     "end_time": "2021-06-04T18:05:30.530383",
     "exception": false,
     "start_time": "2021-06-04T18:05:30.431548",
     "status": "completed"
    },
    "tags": []
   },
   "outputs": [],
   "source": [
    "df = pd.read_csv('data/dataset.csv')"
   ]
  },
  {
   "cell_type": "markdown",
   "metadata": {
    "papermill": {
     "duration": 0.027299,
     "end_time": "2021-06-04T18:05:30.585536",
     "exception": false,
     "start_time": "2021-06-04T18:05:30.558237",
     "status": "completed"
    },
    "tags": []
   },
   "source": [
    "# Exploratory Data Analysis "
   ]
  },
  {
   "cell_type": "code",
   "execution_count": 3,
   "metadata": {
    "execution": {
     "iopub.execute_input": "2021-06-04T18:05:30.652174Z",
     "iopub.status.busy": "2021-06-04T18:05:30.651370Z",
     "iopub.status.idle": "2021-06-04T18:05:30.666510Z",
     "shell.execute_reply": "2021-06-04T18:05:30.667093Z"
    },
    "papermill": {
     "duration": 0.05421,
     "end_time": "2021-06-04T18:05:30.667271",
     "exception": false,
     "start_time": "2021-06-04T18:05:30.613061",
     "status": "completed"
    },
    "tags": []
   },
   "outputs": [
    {
     "name": "stdout",
     "output_type": "stream",
     "text": [
      "<class 'pandas.core.frame.DataFrame'>\n",
      "RangeIndex: 20000 entries, 0 to 19999\n",
      "Data columns (total 15 columns):\n",
      " #   Column          Non-Null Count  Dtype  \n",
      "---  ------          --------------  -----  \n",
      " 0   MATRICULA       20000 non-null  int64  \n",
      " 1   NOME            20000 non-null  object \n",
      " 2   REPROVACOES_DE  20000 non-null  int64  \n",
      " 3   REPROVACOES_EM  20000 non-null  int64  \n",
      " 4   REPROVACOES_MF  20000 non-null  int64  \n",
      " 5   REPROVACOES_GO  20000 non-null  int64  \n",
      " 6   NOTA_DE         20000 non-null  float64\n",
      " 7   NOTA_EM         20000 non-null  float64\n",
      " 8   NOTA_MF         20000 non-null  float64\n",
      " 9   NOTA_GO         16284 non-null  float64\n",
      " 10  INGLES          16372 non-null  float64\n",
      " 11  H_AULA_PRES     20000 non-null  int64  \n",
      " 12  TAREFAS_ONLINE  20000 non-null  int64  \n",
      " 13  FALTAS          20000 non-null  int64  \n",
      " 14  PERFIL          20000 non-null  object \n",
      "dtypes: float64(5), int64(8), object(2)\n",
      "memory usage: 2.3+ MB\n"
     ]
    }
   ],
   "source": [
    "df.info()"
   ]
  },
  {
   "cell_type": "code",
   "execution_count": 4,
   "metadata": {
    "execution": {
     "iopub.execute_input": "2021-06-04T18:05:30.733421Z",
     "iopub.status.busy": "2021-06-04T18:05:30.732780Z",
     "iopub.status.idle": "2021-06-04T18:05:30.776189Z",
     "shell.execute_reply": "2021-06-04T18:05:30.776582Z"
    },
    "papermill": {
     "duration": 0.080157,
     "end_time": "2021-06-04T18:05:30.776716",
     "exception": false,
     "start_time": "2021-06-04T18:05:30.696559",
     "status": "completed"
    },
    "tags": []
   },
   "outputs": [
    {
     "data": {
      "text/html": [
       "<div>\n",
       "<style scoped>\n",
       "    .dataframe tbody tr th:only-of-type {\n",
       "        vertical-align: middle;\n",
       "    }\n",
       "\n",
       "    .dataframe tbody tr th {\n",
       "        vertical-align: top;\n",
       "    }\n",
       "\n",
       "    .dataframe thead th {\n",
       "        text-align: right;\n",
       "    }\n",
       "</style>\n",
       "<table border=\"1\" class=\"dataframe\">\n",
       "  <thead>\n",
       "    <tr style=\"text-align: right;\">\n",
       "      <th></th>\n",
       "      <th>REPROVACOES_DE</th>\n",
       "      <th>REPROVACOES_EM</th>\n",
       "      <th>REPROVACOES_MF</th>\n",
       "      <th>REPROVACOES_GO</th>\n",
       "      <th>NOTA_DE</th>\n",
       "      <th>NOTA_EM</th>\n",
       "      <th>NOTA_MF</th>\n",
       "      <th>NOTA_GO</th>\n",
       "      <th>H_AULA_PRES</th>\n",
       "      <th>TAREFAS_ONLINE</th>\n",
       "      <th>FALTAS</th>\n",
       "    </tr>\n",
       "  </thead>\n",
       "  <tbody>\n",
       "    <tr>\n",
       "      <th>count</th>\n",
       "      <td>20000.000000</td>\n",
       "      <td>20000.000000</td>\n",
       "      <td>20000.000000</td>\n",
       "      <td>20000.000000</td>\n",
       "      <td>20000.000000</td>\n",
       "      <td>20000.000000</td>\n",
       "      <td>20000.000000</td>\n",
       "      <td>16284.000000</td>\n",
       "      <td>20000.000000</td>\n",
       "      <td>20000.000000</td>\n",
       "      <td>20000.000000</td>\n",
       "    </tr>\n",
       "    <tr>\n",
       "      <th>mean</th>\n",
       "      <td>0.242850</td>\n",
       "      <td>0.242850</td>\n",
       "      <td>0.297650</td>\n",
       "      <td>0.293350</td>\n",
       "      <td>5.196560</td>\n",
       "      <td>5.080285</td>\n",
       "      <td>4.817630</td>\n",
       "      <td>4.534101</td>\n",
       "      <td>5.102950</td>\n",
       "      <td>3.140300</td>\n",
       "      <td>4.060600</td>\n",
       "    </tr>\n",
       "    <tr>\n",
       "      <th>std</th>\n",
       "      <td>0.615055</td>\n",
       "      <td>0.615055</td>\n",
       "      <td>0.672813</td>\n",
       "      <td>0.661829</td>\n",
       "      <td>2.522545</td>\n",
       "      <td>2.523928</td>\n",
       "      <td>2.734775</td>\n",
       "      <td>2.509209</td>\n",
       "      <td>4.118422</td>\n",
       "      <td>1.854909</td>\n",
       "      <td>1.674714</td>\n",
       "    </tr>\n",
       "    <tr>\n",
       "      <th>min</th>\n",
       "      <td>0.000000</td>\n",
       "      <td>0.000000</td>\n",
       "      <td>0.000000</td>\n",
       "      <td>0.000000</td>\n",
       "      <td>0.000000</td>\n",
       "      <td>0.000000</td>\n",
       "      <td>0.000000</td>\n",
       "      <td>0.000000</td>\n",
       "      <td>0.000000</td>\n",
       "      <td>0.000000</td>\n",
       "      <td>1.000000</td>\n",
       "    </tr>\n",
       "    <tr>\n",
       "      <th>25%</th>\n",
       "      <td>0.000000</td>\n",
       "      <td>0.000000</td>\n",
       "      <td>0.000000</td>\n",
       "      <td>0.000000</td>\n",
       "      <td>5.200000</td>\n",
       "      <td>4.900000</td>\n",
       "      <td>4.700000</td>\n",
       "      <td>4.500000</td>\n",
       "      <td>2.000000</td>\n",
       "      <td>2.000000</td>\n",
       "      <td>3.000000</td>\n",
       "    </tr>\n",
       "    <tr>\n",
       "      <th>50%</th>\n",
       "      <td>0.000000</td>\n",
       "      <td>0.000000</td>\n",
       "      <td>0.000000</td>\n",
       "      <td>0.000000</td>\n",
       "      <td>6.200000</td>\n",
       "      <td>5.900000</td>\n",
       "      <td>5.500000</td>\n",
       "      <td>5.400000</td>\n",
       "      <td>4.000000</td>\n",
       "      <td>3.000000</td>\n",
       "      <td>4.000000</td>\n",
       "    </tr>\n",
       "    <tr>\n",
       "      <th>75%</th>\n",
       "      <td>0.000000</td>\n",
       "      <td>0.000000</td>\n",
       "      <td>0.000000</td>\n",
       "      <td>0.000000</td>\n",
       "      <td>6.700000</td>\n",
       "      <td>6.700000</td>\n",
       "      <td>6.500000</td>\n",
       "      <td>6.200000</td>\n",
       "      <td>6.000000</td>\n",
       "      <td>5.000000</td>\n",
       "      <td>6.000000</td>\n",
       "    </tr>\n",
       "    <tr>\n",
       "      <th>max</th>\n",
       "      <td>3.000000</td>\n",
       "      <td>3.000000</td>\n",
       "      <td>3.000000</td>\n",
       "      <td>3.000000</td>\n",
       "      <td>9.000000</td>\n",
       "      <td>9.400000</td>\n",
       "      <td>11.500000</td>\n",
       "      <td>10.000000</td>\n",
       "      <td>25.000000</td>\n",
       "      <td>7.000000</td>\n",
       "      <td>8.000000</td>\n",
       "    </tr>\n",
       "  </tbody>\n",
       "</table>\n",
       "</div>"
      ],
      "text/plain": [
       "       REPROVACOES_DE  REPROVACOES_EM  REPROVACOES_MF  REPROVACOES_GO  \\\n",
       "count    20000.000000    20000.000000    20000.000000    20000.000000   \n",
       "mean         0.242850        0.242850        0.297650        0.293350   \n",
       "std          0.615055        0.615055        0.672813        0.661829   \n",
       "min          0.000000        0.000000        0.000000        0.000000   \n",
       "25%          0.000000        0.000000        0.000000        0.000000   \n",
       "50%          0.000000        0.000000        0.000000        0.000000   \n",
       "75%          0.000000        0.000000        0.000000        0.000000   \n",
       "max          3.000000        3.000000        3.000000        3.000000   \n",
       "\n",
       "            NOTA_DE       NOTA_EM       NOTA_MF       NOTA_GO   H_AULA_PRES  \\\n",
       "count  20000.000000  20000.000000  20000.000000  16284.000000  20000.000000   \n",
       "mean       5.196560      5.080285      4.817630      4.534101      5.102950   \n",
       "std        2.522545      2.523928      2.734775      2.509209      4.118422   \n",
       "min        0.000000      0.000000      0.000000      0.000000      0.000000   \n",
       "25%        5.200000      4.900000      4.700000      4.500000      2.000000   \n",
       "50%        6.200000      5.900000      5.500000      5.400000      4.000000   \n",
       "75%        6.700000      6.700000      6.500000      6.200000      6.000000   \n",
       "max        9.000000      9.400000     11.500000     10.000000     25.000000   \n",
       "\n",
       "       TAREFAS_ONLINE        FALTAS  \n",
       "count    20000.000000  20000.000000  \n",
       "mean         3.140300      4.060600  \n",
       "std          1.854909      1.674714  \n",
       "min          0.000000      1.000000  \n",
       "25%          2.000000      3.000000  \n",
       "50%          3.000000      4.000000  \n",
       "75%          5.000000      6.000000  \n",
       "max          7.000000      8.000000  "
      ]
     },
     "execution_count": 4,
     "metadata": {},
     "output_type": "execute_result"
    }
   ],
   "source": [
    "df.loc[:,['REPROVACOES_DE','REPROVACOES_EM','REPROVACOES_MF','REPROVACOES_GO',\n",
    "         'NOTA_DE','NOTA_EM','NOTA_MF','NOTA_GO','H_AULA_PRES', 'TAREFAS_ONLINE', \n",
    "         'FALTAS']].describe()"
   ]
  },
  {
   "cell_type": "code",
   "execution_count": 5,
   "metadata": {},
   "outputs": [
    {
     "data": {
      "image/png": "[encoded data removed]",
      "text/plain": [
       "<Figure size 432x432 with 1 Axes>"
      ]
     },
     "metadata": {
      "needs_background": "light"
     },
     "output_type": "display_data"
    },
    {
     "data": {
      "image/png": "[encoded data removed]",
      "text/plain": [
       "<Figure size 432x432 with 1 Axes>"
      ]
     },
     "metadata": {
      "needs_background": "light"
     },
     "output_type": "display_data"
    },
    {
     "data": {
      "image/png": "[encoded data removed]",
      "text/plain": [
       "<Figure size 432x432 with 1 Axes>"
      ]
     },
     "metadata": {
      "needs_background": "light"
     },
     "output_type": "display_data"
    },
    {
     "data": {
      "image/png": "[encoded data removed]",
      "text/plain": [
       "<Figure size 432x432 with 1 Axes>"
      ]
     },
     "metadata": {
      "needs_background": "light"
     },
     "output_type": "display_data"
    }
   ],
   "source": [
    "#Create histogram for each columns \n",
    "inputs = ['NOTA_DE','NOTA_EM','NOTA_MF','NOTA_GO']\n",
    "for col in inputs:\n",
    "        df.hist(column=col, bins=16, figsize=(6,6),color='#1aa3ff')\n",
    "        plt.title(col)\n",
    "plt.tight_layout()\n",
    "plt.show()"
   ]
  },
  {
   "cell_type": "markdown",
   "metadata": {},
   "source": [
    "Handling missing values"
   ]
  },
  {
   "cell_type": "code",
   "execution_count": 6,
   "metadata": {
    "execution": {
     "iopub.execute_input": "2021-06-04T18:05:30.841896Z",
     "iopub.status.busy": "2021-06-04T18:05:30.841144Z",
     "iopub.status.idle": "2021-06-04T18:05:30.847317Z",
     "shell.execute_reply": "2021-06-04T18:05:30.846877Z"
    },
    "papermill": {
     "duration": 0.042078,
     "end_time": "2021-06-04T18:05:30.847423",
     "exception": false,
     "start_time": "2021-06-04T18:05:30.805345",
     "status": "completed"
    },
    "tags": []
   },
   "outputs": [
    {
     "data": {
      "text/plain": [
       "MATRICULA            0\n",
       "NOME                 0\n",
       "REPROVACOES_DE       0\n",
       "REPROVACOES_EM       0\n",
       "REPROVACOES_MF       0\n",
       "REPROVACOES_GO       0\n",
       "NOTA_DE              0\n",
       "NOTA_EM              0\n",
       "NOTA_MF              0\n",
       "NOTA_GO           3716\n",
       "INGLES            3628\n",
       "H_AULA_PRES          0\n",
       "TAREFAS_ONLINE       0\n",
       "FALTAS               0\n",
       "PERFIL               0\n",
       "dtype: int64"
      ]
     },
     "execution_count": 6,
     "metadata": {},
     "output_type": "execute_result"
    }
   ],
   "source": [
    "#Checking missing values\n",
    "df.isnull().sum()"
   ]
  },
  {
   "cell_type": "code",
   "execution_count": 7,
   "metadata": {
    "execution": {
     "iopub.execute_input": "2021-06-04T18:05:30.909387Z",
     "iopub.status.busy": "2021-06-04T18:05:30.908610Z",
     "iopub.status.idle": "2021-06-04T18:05:30.912115Z",
     "shell.execute_reply": "2021-06-04T18:05:30.911589Z"
    },
    "papermill": {
     "duration": 0.036207,
     "end_time": "2021-06-04T18:05:30.912221",
     "exception": false,
     "start_time": "2021-06-04T18:05:30.876014",
     "status": "completed"
    },
    "tags": []
   },
   "outputs": [],
   "source": [
    "#Replacing missing values\n",
    "df.fillna(0,inplace=True)"
   ]
  },
  {
   "cell_type": "code",
   "execution_count": 8,
   "metadata": {
    "execution": {
     "iopub.execute_input": "2021-06-04T18:05:31.039019Z",
     "iopub.status.busy": "2021-06-04T18:05:31.038203Z",
     "iopub.status.idle": "2021-06-04T18:05:31.042013Z",
     "shell.execute_reply": "2021-06-04T18:05:31.041603Z"
    },
    "papermill": {
     "duration": 0.036209,
     "end_time": "2021-06-04T18:05:31.042128",
     "exception": false,
     "start_time": "2021-06-04T18:05:31.005919",
     "status": "completed"
    },
    "tags": []
   },
   "outputs": [
    {
     "data": {
      "text/plain": [
       "(20000, 15)"
      ]
     },
     "execution_count": 8,
     "metadata": {},
     "output_type": "execute_result"
    }
   ],
   "source": [
    "df.shape"
   ]
  },
  {
   "cell_type": "code",
   "execution_count": 9,
   "metadata": {
    "execution": {
     "iopub.execute_input": "2021-06-04T18:05:31.105539Z",
     "iopub.status.busy": "2021-06-04T18:05:31.104787Z",
     "iopub.status.idle": "2021-06-04T18:05:31.124075Z",
     "shell.execute_reply": "2021-06-04T18:05:31.123561Z"
    },
    "papermill": {
     "duration": 0.052282,
     "end_time": "2021-06-04T18:05:31.124185",
     "exception": false,
     "start_time": "2021-06-04T18:05:31.071903",
     "status": "completed"
    },
    "tags": []
   },
   "outputs": [
    {
     "data": {
      "text/plain": [
       "0"
      ]
     },
     "execution_count": 9,
     "metadata": {},
     "output_type": "execute_result"
    }
   ],
   "source": [
    "df.duplicated().sum()"
   ]
  },
  {
   "cell_type": "code",
   "execution_count": 10,
   "metadata": {
    "execution": {
     "iopub.execute_input": "2021-06-04T18:05:31.461712Z",
     "iopub.status.busy": "2021-06-04T18:05:31.461020Z",
     "iopub.status.idle": "2021-06-04T18:05:31.939788Z",
     "shell.execute_reply": "2021-06-04T18:05:31.939343Z"
    },
    "papermill": {
     "duration": 0.520214,
     "end_time": "2021-06-04T18:05:31.939918",
     "exception": false,
     "start_time": "2021-06-04T18:05:31.419704",
     "status": "completed"
    },
    "tags": []
   },
   "outputs": [
    {
     "data": {
      "image/png": "[encoded data removed]",
      "text/plain": [
       "<Figure size 432x288 with 1 Axes>"
      ]
     },
     "metadata": {},
     "output_type": "display_data"
    }
   ],
   "source": [
    "sns.set_theme(style=\"whitegrid\")\n",
    "sns.barplot(x='PERFIL', y='NOTA_MF', data=df, color='#1aa3ff')\n",
    "plt.xlabel('PERFIL')\n",
    "plt.ylabel('NOTA_MF')\n",
    "plt.xticks(rotation = 45)\n",
    "plt.tight_layout()\n",
    "plt.show()"
   ]
  },
  {
   "cell_type": "code",
   "execution_count": 11,
   "metadata": {
    "execution": {
     "iopub.execute_input": "2021-06-04T18:05:33.262901Z",
     "iopub.status.busy": "2021-06-04T18:05:33.262103Z",
     "iopub.status.idle": "2021-06-04T18:05:33.266864Z",
     "shell.execute_reply": "2021-06-04T18:05:33.266409Z"
    },
    "papermill": {
     "duration": 0.044122,
     "end_time": "2021-06-04T18:05:33.266975",
     "exception": false,
     "start_time": "2021-06-04T18:05:33.222853",
     "status": "completed"
    },
    "tags": []
   },
   "outputs": [
    {
     "data": {
      "text/plain": [
       "array(['EXATAS', 'HUMANAS', 'DIFICULDADE', 'MUITO_BOM', 'EXCELENTE'],\n",
       "      dtype=object)"
      ]
     },
     "execution_count": 11,
     "metadata": {},
     "output_type": "execute_result"
    }
   ],
   "source": [
    "df['PERFIL'].unique()"
   ]
  },
  {
   "cell_type": "code",
   "execution_count": 12,
   "metadata": {
    "execution": {
     "iopub.execute_input": "2021-06-04T18:05:33.685135Z",
     "iopub.status.busy": "2021-06-04T18:05:33.684449Z",
     "iopub.status.idle": "2021-06-04T18:05:33.689450Z",
     "shell.execute_reply": "2021-06-04T18:05:33.689020Z"
    },
    "papermill": {
     "duration": 0.049064,
     "end_time": "2021-06-04T18:05:33.689552",
     "exception": false,
     "start_time": "2021-06-04T18:05:33.640488",
     "status": "completed"
    },
    "tags": []
   },
   "outputs": [
    {
     "data": {
      "text/plain": [
       "EXCELENTE       671\n",
       "MUITO_BOM       902\n",
       "HUMANAS        3196\n",
       "DIFICULDADE    7001\n",
       "EXATAS         8230\n",
       "Name: PERFIL, dtype: int64"
      ]
     },
     "execution_count": 12,
     "metadata": {},
     "output_type": "execute_result"
    }
   ],
   "source": [
    "df['PERFIL'].value_counts(ascending=True)"
   ]
  },
  {
   "cell_type": "code",
   "execution_count": 13,
   "metadata": {},
   "outputs": [],
   "source": [
    "#Define X and y\n",
    "features  = ['REPROVACOES_DE','REPROVACOES_EM','REPROVACOES_MF','REPROVACOES_GO',\n",
    "            'NOTA_DE','NOTA_EM','NOTA_MF','NOTA_GO','H_AULA_PRES', 'TAREFAS_ONLINE', 'FALTAS']\n",
    "X = df[features]\n",
    "y = df.PERFIL"
   ]
  },
  {
   "cell_type": "code",
   "execution_count": 14,
   "metadata": {
    "execution": {
     "iopub.execute_input": "2021-06-04T18:05:34.098905Z",
     "iopub.status.busy": "2021-06-04T18:05:34.098071Z",
     "iopub.status.idle": "2021-06-04T18:05:34.101926Z",
     "shell.execute_reply": "2021-06-04T18:05:34.101510Z"
    },
    "papermill": {
     "duration": 0.052165,
     "end_time": "2021-06-04T18:05:34.102043",
     "exception": false,
     "start_time": "2021-06-04T18:05:34.049878",
     "status": "completed"
    },
    "tags": []
   },
   "outputs": [
    {
     "data": {
      "text/html": [
       "<div>\n",
       "<style scoped>\n",
       "    .dataframe tbody tr th:only-of-type {\n",
       "        vertical-align: middle;\n",
       "    }\n",
       "\n",
       "    .dataframe tbody tr th {\n",
       "        vertical-align: top;\n",
       "    }\n",
       "\n",
       "    .dataframe thead th {\n",
       "        text-align: right;\n",
       "    }\n",
       "</style>\n",
       "<table border=\"1\" class=\"dataframe\">\n",
       "  <thead>\n",
       "    <tr style=\"text-align: right;\">\n",
       "      <th></th>\n",
       "      <th>REPROVACOES_DE</th>\n",
       "      <th>REPROVACOES_EM</th>\n",
       "      <th>REPROVACOES_MF</th>\n",
       "      <th>REPROVACOES_GO</th>\n",
       "      <th>NOTA_DE</th>\n",
       "      <th>NOTA_EM</th>\n",
       "      <th>NOTA_MF</th>\n",
       "      <th>NOTA_GO</th>\n",
       "      <th>H_AULA_PRES</th>\n",
       "      <th>TAREFAS_ONLINE</th>\n",
       "      <th>FALTAS</th>\n",
       "    </tr>\n",
       "  </thead>\n",
       "  <tbody>\n",
       "    <tr>\n",
       "      <th>0</th>\n",
       "      <td>0</td>\n",
       "      <td>0</td>\n",
       "      <td>0</td>\n",
       "      <td>0</td>\n",
       "      <td>6.2</td>\n",
       "      <td>5.8</td>\n",
       "      <td>4.6</td>\n",
       "      <td>5.9</td>\n",
       "      <td>2</td>\n",
       "      <td>4</td>\n",
       "      <td>3</td>\n",
       "    </tr>\n",
       "    <tr>\n",
       "      <th>1</th>\n",
       "      <td>0</td>\n",
       "      <td>0</td>\n",
       "      <td>0</td>\n",
       "      <td>0</td>\n",
       "      <td>6.0</td>\n",
       "      <td>6.2</td>\n",
       "      <td>5.2</td>\n",
       "      <td>4.5</td>\n",
       "      <td>2</td>\n",
       "      <td>4</td>\n",
       "      <td>3</td>\n",
       "    </tr>\n",
       "    <tr>\n",
       "      <th>2</th>\n",
       "      <td>0</td>\n",
       "      <td>0</td>\n",
       "      <td>0</td>\n",
       "      <td>0</td>\n",
       "      <td>7.3</td>\n",
       "      <td>6.7</td>\n",
       "      <td>7.1</td>\n",
       "      <td>7.2</td>\n",
       "      <td>5</td>\n",
       "      <td>0</td>\n",
       "      <td>3</td>\n",
       "    </tr>\n",
       "    <tr>\n",
       "      <th>3</th>\n",
       "      <td>1</td>\n",
       "      <td>3</td>\n",
       "      <td>1</td>\n",
       "      <td>1</td>\n",
       "      <td>0.0</td>\n",
       "      <td>0.0</td>\n",
       "      <td>0.0</td>\n",
       "      <td>0.0</td>\n",
       "      <td>4</td>\n",
       "      <td>4</td>\n",
       "      <td>4</td>\n",
       "    </tr>\n",
       "    <tr>\n",
       "      <th>4</th>\n",
       "      <td>1</td>\n",
       "      <td>3</td>\n",
       "      <td>1</td>\n",
       "      <td>1</td>\n",
       "      <td>0.0</td>\n",
       "      <td>0.0</td>\n",
       "      <td>0.0</td>\n",
       "      <td>0.0</td>\n",
       "      <td>5</td>\n",
       "      <td>2</td>\n",
       "      <td>5</td>\n",
       "    </tr>\n",
       "  </tbody>\n",
       "</table>\n",
       "</div>"
      ],
      "text/plain": [
       "   REPROVACOES_DE  REPROVACOES_EM  REPROVACOES_MF  REPROVACOES_GO  NOTA_DE  \\\n",
       "0               0               0               0               0      6.2   \n",
       "1               0               0               0               0      6.0   \n",
       "2               0               0               0               0      7.3   \n",
       "3               1               3               1               1      0.0   \n",
       "4               1               3               1               1      0.0   \n",
       "\n",
       "   NOTA_EM  NOTA_MF  NOTA_GO  H_AULA_PRES  TAREFAS_ONLINE  FALTAS  \n",
       "0      5.8      4.6      5.9            2               4       3  \n",
       "1      6.2      5.2      4.5            2               4       3  \n",
       "2      6.7      7.1      7.2            5               0       3  \n",
       "3      0.0      0.0      0.0            4               4       4  \n",
       "4      0.0      0.0      0.0            5               2       5  "
      ]
     },
     "execution_count": 14,
     "metadata": {},
     "output_type": "execute_result"
    }
   ],
   "source": [
    "X.head()"
   ]
  },
  {
   "cell_type": "code",
   "execution_count": 15,
   "metadata": {
    "execution": {
     "iopub.execute_input": "2021-06-04T18:05:34.363650Z",
     "iopub.status.busy": "2021-06-04T18:05:34.362886Z",
     "iopub.status.idle": "2021-06-04T18:05:34.384519Z",
     "shell.execute_reply": "2021-06-04T18:05:34.384117Z"
    },
    "papermill": {
     "duration": 0.06273,
     "end_time": "2021-06-04T18:05:34.384628",
     "exception": false,
     "start_time": "2021-06-04T18:05:34.321898",
     "status": "completed"
    },
    "tags": []
   },
   "outputs": [],
   "source": [
    "X_train, X_test, y_train, y_test = train_test_split(X, y,test_size=0.20, random_state=0, stratify=y)"
   ]
  },
  {
   "cell_type": "code",
   "execution_count": 16,
   "metadata": {
    "execution": {
     "iopub.execute_input": "2021-06-04T18:05:34.463469Z",
     "iopub.status.busy": "2021-06-04T18:05:34.462686Z",
     "iopub.status.idle": "2021-06-04T18:05:34.466114Z",
     "shell.execute_reply": "2021-06-04T18:05:34.466476Z"
    },
    "papermill": {
     "duration": 0.044257,
     "end_time": "2021-06-04T18:05:34.466596",
     "exception": false,
     "start_time": "2021-06-04T18:05:34.422339",
     "status": "completed"
    },
    "tags": []
   },
   "outputs": [
    {
     "data": {
      "text/plain": [
       "(16000, 11)"
      ]
     },
     "execution_count": 16,
     "metadata": {},
     "output_type": "execute_result"
    }
   ],
   "source": [
    "X_train.shape"
   ]
  },
  {
   "cell_type": "code",
   "execution_count": 17,
   "metadata": {
    "execution": {
     "iopub.execute_input": "2021-06-04T18:05:34.546256Z",
     "iopub.status.busy": "2021-06-04T18:05:34.545450Z",
     "iopub.status.idle": "2021-06-04T18:05:34.549226Z",
     "shell.execute_reply": "2021-06-04T18:05:34.548824Z"
    },
    "papermill": {
     "duration": 0.04525,
     "end_time": "2021-06-04T18:05:34.549327",
     "exception": false,
     "start_time": "2021-06-04T18:05:34.504077",
     "status": "completed"
    },
    "tags": []
   },
   "outputs": [
    {
     "data": {
      "text/plain": [
       "(4000, 11)"
      ]
     },
     "execution_count": 17,
     "metadata": {},
     "output_type": "execute_result"
    }
   ],
   "source": [
    "X_test.shape"
   ]
  },
  {
   "cell_type": "code",
   "execution_count": 18,
   "metadata": {},
   "outputs": [],
   "source": [
    "clf = BalancedRandomForestClassifier(class_weight='balanced', \n",
    "                                      max_depth=20, \n",
    "                                      random_state=1, \n",
    "                                      replacement=True)"
   ]
  },
  {
   "cell_type": "code",
   "execution_count": 19,
   "metadata": {},
   "outputs": [
    {
     "data": {
      "text/plain": [
       "BalancedRandomForestClassifier(class_weight='balanced', max_depth=20,\n",
       "                               random_state=1, replacement=True)"
      ]
     },
     "execution_count": 19,
     "metadata": {},
     "output_type": "execute_result"
    }
   ],
   "source": [
    "clf.fit(X_train,y_train)"
   ]
  },
  {
   "cell_type": "code",
   "execution_count": 20,
   "metadata": {},
   "outputs": [
    {
     "name": "stdout",
     "output_type": "stream",
     "text": [
      "0.836\n"
     ]
    }
   ],
   "source": [
    "score = clf.score(X_train,y_train)\n",
    "print(score)"
   ]
  },
  {
   "cell_type": "code",
   "execution_count": 21,
   "metadata": {},
   "outputs": [
    {
     "name": "stdout",
     "output_type": "stream",
     "text": [
      "Preditions : \n",
      " ['HUMANAS' 'HUMANAS' 'EXATAS' 'DIFICULDADE' 'DIFICULDADE' 'EXATAS'\n",
      " 'MUITO_BOM' 'EXATAS' 'EXCELENTE' 'EXATAS']\n"
     ]
    }
   ],
   "source": [
    "y_pred = clf.predict(X_test)\n",
    "print('Preditions : \\n',y_pred[0:10])"
   ]
  },
  {
   "cell_type": "code",
   "execution_count": 22,
   "metadata": {},
   "outputs": [
    {
     "name": "stdout",
     "output_type": "stream",
     "text": [
      "True Labels: \n",
      " 2805         HUMANAS\n",
      "8152         HUMANAS\n",
      "17003         EXATAS\n",
      "19387    DIFICULDADE\n",
      "4588     DIFICULDADE\n",
      "10467         EXATAS\n",
      "12738        HUMANAS\n",
      "8530          EXATAS\n",
      "17808        HUMANAS\n",
      "5651          EXATAS\n",
      "Name: PERFIL, dtype: object\n"
     ]
    }
   ],
   "source": [
    "print('True Labels: \\n', y_test[0:10])"
   ]
  },
  {
   "cell_type": "code",
   "execution_count": 23,
   "metadata": {},
   "outputs": [
    {
     "name": "stdout",
     "output_type": "stream",
     "text": [
      "              precision    recall  f1-score   support\n",
      "\n",
      " DIFICULDADE       0.88      0.76      0.81      1400\n",
      "      EXATAS       0.81      0.85      0.83      1646\n",
      "   EXCELENTE       0.46      0.89      0.61       134\n",
      "     HUMANAS       0.83      0.77      0.80       639\n",
      "   MUITO_BOM       0.22      0.29      0.25       181\n",
      "\n",
      "    accuracy                           0.78      4000\n",
      "   macro avg       0.64      0.71      0.66      4000\n",
      "weighted avg       0.80      0.78      0.79      4000\n",
      "\n"
     ]
    }
   ],
   "source": [
    "print(classification_report(y_test, y_pred))"
   ]
  },
  {
   "cell_type": "code",
   "execution_count": null,
   "metadata": {},
   "outputs": [],
   "source": []
  }
 ],
 "metadata": {
  "interpreter": {
   "hash": "2e1196e720b692b8627bcce13ebaedcfe3bb5b998ff22bc9654b179a288d23cf"
  },
  "kernelspec": {
   "display_name": "Python 3.9.6 64-bit ('.env': venv)",
   "name": "python3"
  },
  "language_info": {
   "codemirror_mode": {
    "name": "ipython",
    "version": 3
   },
   "file_extension": ".py",
   "mimetype": "text/x-python",
   "name": "python",
   "nbconvert_exporter": "python",
   "pygments_lexer": "ipython3",
   "version": "3.9.6"
  },
  "papermill": {
   "default_parameters": {},
   "duration": 5723.043971,
   "end_time": "2021-06-04T19:40:30.527604",
   "environment_variables": {},
   "exception": null,
   "input_path": "__notebook__.ipynb",
   "output_path": "__notebook__.ipynb",
   "parameters": {},
   "start_time": "2021-06-04T18:05:07.483633",
   "version": "2.3.2"
  }
 },
 "nbformat": 4,
 "nbformat_minor": 5
}
