{
 "cells": [
  {
   "cell_type": "markdown",
   "source": [
    "Mentoring has been identified as an essential component in the development academic and profisional. \r\n",
    "The purpose is the better understanding of the mentoring experiences of graduate students enrolled at college. \r\n",
    "\r\n",
    "In this Notebook, used data analysis to provide personalized student mentoring, recommendations based on their profile.\r\n",
    "The dataset used in this exercise is based https://github.com/maratonadev-br/desafio-2-2020/tree/master/Assets/Data."
   ],
   "metadata": {
    "papermill": {
     "duration": 0.02626,
     "end_time": "2021-06-04T18:05:12.493156",
     "exception": false,
     "start_time": "2021-06-04T18:05:12.466896",
     "status": "completed"
    },
    "tags": []
   }
  },
  {
   "cell_type": "code",
   "execution_count": 57,
   "source": [
    "import pandas as pd\r\n",
    "import numpy as np\r\n",
    "%matplotlib inline\r\n",
    "import matplotlib.pyplot as plt\r\n",
    "import seaborn as sns\r\n",
    "import xgboost as xgb\r\n",
    "from xgboost import plot_importance\r\n",
    "from imblearn.over_sampling import SMOTE\r\n",
    "from sklearn.preprocessing import LabelEncoder\r\n",
    "from sklearn.model_selection import train_test_split\r\n",
    "from sklearn.model_selection import GridSearchCV\r\n",
    "from sklearn.model_selection import cross_val_score\r\n",
    "from sklearn.model_selection import KFold, cross_validate\r\n",
    "from sklearn.metrics import accuracy_score\r\n",
    "from sklearn.metrics import classification_report\r\n"
   ],
   "outputs": [],
   "metadata": {
    "execution": {
     "iopub.execute_input": "2021-06-04T18:05:25.923804Z",
     "iopub.status.busy": "2021-06-04T18:05:25.923264Z",
     "iopub.status.idle": "2021-06-04T18:05:30.403759Z",
     "shell.execute_reply": "2021-06-04T18:05:30.402665Z"
    },
    "papermill": {
     "duration": 4.51824,
     "end_time": "2021-06-04T18:05:30.403900",
     "exception": false,
     "start_time": "2021-06-04T18:05:25.885660",
     "status": "completed"
    },
    "tags": []
   }
  },
  {
   "cell_type": "markdown",
   "source": [
    "Features :\r\n",
    "Student enrollment\r\n",
    "Name \r\n",
    "Number of  students that flunked  in the Business Law Exam\r\n",
    "Number of  students that flunked in the Entrepreneurship Exam\r\n",
    "Number of  students that flunked in the Financial Mathematics Exam\r\n",
    "Number of students that flunked in the  Operational Management Exam\r\n",
    "Grade point average of students in the Business Law Exam\r\n",
    "Grade point average of students in the Entrepreneurship Exam\r\n",
    "Grade point average of students in the Financial Mathematics Exam\r\n",
    "Grade point average of students in the Operational Management Exam\r\n",
    "English - Binary variable  that indicates If the student has  knowledge of the English Language (No==0 or Yes==1)\r\n",
    "Study time attendance completed by students\r\n",
    "Number of tasks handed online submission by students\r\n",
    "Number of students absent\r\n",
    "\r\n",
    "Target Variable Categorical:\r\n",
    "Profile \r\n",
    "Excellent\r\n",
    "Very Good\r\n",
    "Human\r\n",
    "Exact\r\n",
    "Difficulty"
   ],
   "metadata": {}
  },
  {
   "cell_type": "code",
   "execution_count": 58,
   "source": [
    "df = pd.read_csv('data/dataset.csv')"
   ],
   "outputs": [],
   "metadata": {
    "execution": {
     "iopub.execute_input": "2021-06-04T18:05:30.468951Z",
     "iopub.status.busy": "2021-06-04T18:05:30.468391Z",
     "iopub.status.idle": "2021-06-04T18:05:30.530247Z",
     "shell.execute_reply": "2021-06-04T18:05:30.529354Z"
    },
    "papermill": {
     "duration": 0.098835,
     "end_time": "2021-06-04T18:05:30.530383",
     "exception": false,
     "start_time": "2021-06-04T18:05:30.431548",
     "status": "completed"
    },
    "tags": []
   }
  },
  {
   "cell_type": "markdown",
   "source": [
    "# Exploratory Data Analysis "
   ],
   "metadata": {
    "papermill": {
     "duration": 0.027299,
     "end_time": "2021-06-04T18:05:30.585536",
     "exception": false,
     "start_time": "2021-06-04T18:05:30.558237",
     "status": "completed"
    },
    "tags": []
   }
  },
  {
   "cell_type": "code",
   "execution_count": 59,
   "source": [
    "df.info()"
   ],
   "outputs": [
    {
     "output_type": "stream",
     "name": "stdout",
     "text": [
      "<class 'pandas.core.frame.DataFrame'>\n",
      "RangeIndex: 20000 entries, 0 to 19999\n",
      "Data columns (total 15 columns):\n",
      " #   Column          Non-Null Count  Dtype  \n",
      "---  ------          --------------  -----  \n",
      " 0   MATRICULA       20000 non-null  int64  \n",
      " 1   NOME            20000 non-null  object \n",
      " 2   REPROVACOES_DE  20000 non-null  int64  \n",
      " 3   REPROVACOES_EM  20000 non-null  int64  \n",
      " 4   REPROVACOES_MF  20000 non-null  int64  \n",
      " 5   REPROVACOES_GO  20000 non-null  int64  \n",
      " 6   NOTA_DE         20000 non-null  float64\n",
      " 7   NOTA_EM         20000 non-null  float64\n",
      " 8   NOTA_MF         20000 non-null  float64\n",
      " 9   NOTA_GO         16284 non-null  float64\n",
      " 10  INGLES          16372 non-null  float64\n",
      " 11  H_AULA_PRES     20000 non-null  int64  \n",
      " 12  TAREFAS_ONLINE  20000 non-null  int64  \n",
      " 13  FALTAS          20000 non-null  int64  \n",
      " 14  PERFIL          20000 non-null  object \n",
      "dtypes: float64(5), int64(8), object(2)\n",
      "memory usage: 2.3+ MB\n"
     ]
    }
   ],
   "metadata": {
    "execution": {
     "iopub.execute_input": "2021-06-04T18:05:30.652174Z",
     "iopub.status.busy": "2021-06-04T18:05:30.651370Z",
     "iopub.status.idle": "2021-06-04T18:05:30.666510Z",
     "shell.execute_reply": "2021-06-04T18:05:30.667093Z"
    },
    "papermill": {
     "duration": 0.05421,
     "end_time": "2021-06-04T18:05:30.667271",
     "exception": false,
     "start_time": "2021-06-04T18:05:30.613061",
     "status": "completed"
    },
    "tags": []
   }
  },
  {
   "cell_type": "code",
   "execution_count": 60,
   "source": [
    "df.loc[:,['REPROVACOES_DE','REPROVACOES_EM','REPROVACOES_MF','REPROVACOES_GO',\r\n",
    "         'NOTA_DE','NOTA_EM','NOTA_MF','NOTA_GO','H_AULA_PRES', 'TAREFAS_ONLINE', \r\n",
    "         'FALTAS']].describe()"
   ],
   "outputs": [
    {
     "output_type": "execute_result",
     "data": {
      "text/html": [
       "<div>\n",
       "<style scoped>\n",
       "    .dataframe tbody tr th:only-of-type {\n",
       "        vertical-align: middle;\n",
       "    }\n",
       "\n",
       "    .dataframe tbody tr th {\n",
       "        vertical-align: top;\n",
       "    }\n",
       "\n",
       "    .dataframe thead th {\n",
       "        text-align: right;\n",
       "    }\n",
       "</style>\n",
       "<table border=\"1\" class=\"dataframe\">\n",
       "  <thead>\n",
       "    <tr style=\"text-align: right;\">\n",
       "      <th></th>\n",
       "      <th>REPROVACOES_DE</th>\n",
       "      <th>REPROVACOES_EM</th>\n",
       "      <th>REPROVACOES_MF</th>\n",
       "      <th>REPROVACOES_GO</th>\n",
       "      <th>NOTA_DE</th>\n",
       "      <th>NOTA_EM</th>\n",
       "      <th>NOTA_MF</th>\n",
       "      <th>NOTA_GO</th>\n",
       "      <th>H_AULA_PRES</th>\n",
       "      <th>TAREFAS_ONLINE</th>\n",
       "      <th>FALTAS</th>\n",
       "    </tr>\n",
       "  </thead>\n",
       "  <tbody>\n",
       "    <tr>\n",
       "      <th>count</th>\n",
       "      <td>20000.000000</td>\n",
       "      <td>20000.000000</td>\n",
       "      <td>20000.000000</td>\n",
       "      <td>20000.000000</td>\n",
       "      <td>20000.000000</td>\n",
       "      <td>20000.000000</td>\n",
       "      <td>20000.000000</td>\n",
       "      <td>16284.000000</td>\n",
       "      <td>20000.000000</td>\n",
       "      <td>20000.000000</td>\n",
       "      <td>20000.000000</td>\n",
       "    </tr>\n",
       "    <tr>\n",
       "      <th>mean</th>\n",
       "      <td>0.242850</td>\n",
       "      <td>0.242850</td>\n",
       "      <td>0.297650</td>\n",
       "      <td>0.293350</td>\n",
       "      <td>5.196560</td>\n",
       "      <td>5.080285</td>\n",
       "      <td>4.817630</td>\n",
       "      <td>4.534101</td>\n",
       "      <td>5.102950</td>\n",
       "      <td>3.140300</td>\n",
       "      <td>4.060600</td>\n",
       "    </tr>\n",
       "    <tr>\n",
       "      <th>std</th>\n",
       "      <td>0.615055</td>\n",
       "      <td>0.615055</td>\n",
       "      <td>0.672813</td>\n",
       "      <td>0.661829</td>\n",
       "      <td>2.522545</td>\n",
       "      <td>2.523928</td>\n",
       "      <td>2.734775</td>\n",
       "      <td>2.509209</td>\n",
       "      <td>4.118422</td>\n",
       "      <td>1.854909</td>\n",
       "      <td>1.674714</td>\n",
       "    </tr>\n",
       "    <tr>\n",
       "      <th>min</th>\n",
       "      <td>0.000000</td>\n",
       "      <td>0.000000</td>\n",
       "      <td>0.000000</td>\n",
       "      <td>0.000000</td>\n",
       "      <td>0.000000</td>\n",
       "      <td>0.000000</td>\n",
       "      <td>0.000000</td>\n",
       "      <td>0.000000</td>\n",
       "      <td>0.000000</td>\n",
       "      <td>0.000000</td>\n",
       "      <td>1.000000</td>\n",
       "    </tr>\n",
       "    <tr>\n",
       "      <th>25%</th>\n",
       "      <td>0.000000</td>\n",
       "      <td>0.000000</td>\n",
       "      <td>0.000000</td>\n",
       "      <td>0.000000</td>\n",
       "      <td>5.200000</td>\n",
       "      <td>4.900000</td>\n",
       "      <td>4.700000</td>\n",
       "      <td>4.500000</td>\n",
       "      <td>2.000000</td>\n",
       "      <td>2.000000</td>\n",
       "      <td>3.000000</td>\n",
       "    </tr>\n",
       "    <tr>\n",
       "      <th>50%</th>\n",
       "      <td>0.000000</td>\n",
       "      <td>0.000000</td>\n",
       "      <td>0.000000</td>\n",
       "      <td>0.000000</td>\n",
       "      <td>6.200000</td>\n",
       "      <td>5.900000</td>\n",
       "      <td>5.500000</td>\n",
       "      <td>5.400000</td>\n",
       "      <td>4.000000</td>\n",
       "      <td>3.000000</td>\n",
       "      <td>4.000000</td>\n",
       "    </tr>\n",
       "    <tr>\n",
       "      <th>75%</th>\n",
       "      <td>0.000000</td>\n",
       "      <td>0.000000</td>\n",
       "      <td>0.000000</td>\n",
       "      <td>0.000000</td>\n",
       "      <td>6.700000</td>\n",
       "      <td>6.700000</td>\n",
       "      <td>6.500000</td>\n",
       "      <td>6.200000</td>\n",
       "      <td>6.000000</td>\n",
       "      <td>5.000000</td>\n",
       "      <td>6.000000</td>\n",
       "    </tr>\n",
       "    <tr>\n",
       "      <th>max</th>\n",
       "      <td>3.000000</td>\n",
       "      <td>3.000000</td>\n",
       "      <td>3.000000</td>\n",
       "      <td>3.000000</td>\n",
       "      <td>9.000000</td>\n",
       "      <td>9.400000</td>\n",
       "      <td>11.500000</td>\n",
       "      <td>10.000000</td>\n",
       "      <td>25.000000</td>\n",
       "      <td>7.000000</td>\n",
       "      <td>8.000000</td>\n",
       "    </tr>\n",
       "  </tbody>\n",
       "</table>\n",
       "</div>"
      ],
      "text/plain": [
       "       REPROVACOES_DE  REPROVACOES_EM  REPROVACOES_MF  REPROVACOES_GO  \\\n",
       "count    20000.000000    20000.000000    20000.000000    20000.000000   \n",
       "mean         0.242850        0.242850        0.297650        0.293350   \n",
       "std          0.615055        0.615055        0.672813        0.661829   \n",
       "min          0.000000        0.000000        0.000000        0.000000   \n",
       "25%          0.000000        0.000000        0.000000        0.000000   \n",
       "50%          0.000000        0.000000        0.000000        0.000000   \n",
       "75%          0.000000        0.000000        0.000000        0.000000   \n",
       "max          3.000000        3.000000        3.000000        3.000000   \n",
       "\n",
       "            NOTA_DE       NOTA_EM       NOTA_MF       NOTA_GO   H_AULA_PRES  \\\n",
       "count  20000.000000  20000.000000  20000.000000  16284.000000  20000.000000   \n",
       "mean       5.196560      5.080285      4.817630      4.534101      5.102950   \n",
       "std        2.522545      2.523928      2.734775      2.509209      4.118422   \n",
       "min        0.000000      0.000000      0.000000      0.000000      0.000000   \n",
       "25%        5.200000      4.900000      4.700000      4.500000      2.000000   \n",
       "50%        6.200000      5.900000      5.500000      5.400000      4.000000   \n",
       "75%        6.700000      6.700000      6.500000      6.200000      6.000000   \n",
       "max        9.000000      9.400000     11.500000     10.000000     25.000000   \n",
       "\n",
       "       TAREFAS_ONLINE        FALTAS  \n",
       "count    20000.000000  20000.000000  \n",
       "mean         3.140300      4.060600  \n",
       "std          1.854909      1.674714  \n",
       "min          0.000000      1.000000  \n",
       "25%          2.000000      3.000000  \n",
       "50%          3.000000      4.000000  \n",
       "75%          5.000000      6.000000  \n",
       "max          7.000000      8.000000  "
      ]
     },
     "metadata": {},
     "execution_count": 60
    }
   ],
   "metadata": {
    "execution": {
     "iopub.execute_input": "2021-06-04T18:05:30.733421Z",
     "iopub.status.busy": "2021-06-04T18:05:30.732780Z",
     "iopub.status.idle": "2021-06-04T18:05:30.776189Z",
     "shell.execute_reply": "2021-06-04T18:05:30.776582Z"
    },
    "papermill": {
     "duration": 0.080157,
     "end_time": "2021-06-04T18:05:30.776716",
     "exception": false,
     "start_time": "2021-06-04T18:05:30.696559",
     "status": "completed"
    },
    "tags": []
   }
  },
  {
   "cell_type": "code",
   "execution_count": 85,
   "source": [
    "#Create histogram for each Profile\r\n",
    "inputs = ['NOTA_DE','NOTA_EM','NOTA_MF','NOTA_GO']\r\n",
    "for col in inputs:\r\n",
    "        df.hist(column=col, bins=12, figsize=(6,6),color='#1aa3ff')\r\n",
    "        plt.title(col)\r\n",
    "plt.tight_layout()\r\n",
    "plt.show()"
   ],
   "outputs": [
    {
     "output_type": "display_data",
     "data": {
      "image/png": "[encoded data removed]",
      "text/plain": [
       "<Figure size 432x432 with 1 Axes>"
      ]
     },
     "metadata": {}
    },
    {
     "output_type": "display_data",
     "data": {
      "image/png": "[encoded data removed]",
      "text/plain": [
       "<Figure size 432x432 with 1 Axes>"
      ]
     },
     "metadata": {}
    },
    {
     "output_type": "display_data",
     "data": {
      "image/png": "[encoded data removed]",
      "text/plain": [
       "<Figure size 432x432 with 1 Axes>"
      ]
     },
     "metadata": {}
    },
    {
     "output_type": "display_data",
     "data": {
      "image/png": "[encoded data removed]",
      "text/plain": [
       "<Figure size 432x432 with 1 Axes>"
      ]
     },
     "metadata": {}
    }
   ],
   "metadata": {}
  },
  {
   "cell_type": "markdown",
   "source": [
    "Handling missing values"
   ],
   "metadata": {}
  },
  {
   "cell_type": "code",
   "execution_count": 62,
   "source": [
    "#Checking missing values\r\n",
    "df.isnull().sum()"
   ],
   "outputs": [
    {
     "output_type": "execute_result",
     "data": {
      "text/plain": [
       "MATRICULA            0\n",
       "NOME                 0\n",
       "REPROVACOES_DE       0\n",
       "REPROVACOES_EM       0\n",
       "REPROVACOES_MF       0\n",
       "REPROVACOES_GO       0\n",
       "NOTA_DE              0\n",
       "NOTA_EM              0\n",
       "NOTA_MF              0\n",
       "NOTA_GO           3716\n",
       "INGLES            3628\n",
       "H_AULA_PRES          0\n",
       "TAREFAS_ONLINE       0\n",
       "FALTAS               0\n",
       "PERFIL               0\n",
       "dtype: int64"
      ]
     },
     "metadata": {},
     "execution_count": 62
    }
   ],
   "metadata": {
    "execution": {
     "iopub.execute_input": "2021-06-04T18:05:30.841896Z",
     "iopub.status.busy": "2021-06-04T18:05:30.841144Z",
     "iopub.status.idle": "2021-06-04T18:05:30.847317Z",
     "shell.execute_reply": "2021-06-04T18:05:30.846877Z"
    },
    "papermill": {
     "duration": 0.042078,
     "end_time": "2021-06-04T18:05:30.847423",
     "exception": false,
     "start_time": "2021-06-04T18:05:30.805345",
     "status": "completed"
    },
    "tags": []
   }
  },
  {
   "cell_type": "code",
   "execution_count": 63,
   "source": [
    "#Replacing missing values\r\n",
    "df.fillna(0,inplace=True)"
   ],
   "outputs": [],
   "metadata": {
    "execution": {
     "iopub.execute_input": "2021-06-04T18:05:30.909387Z",
     "iopub.status.busy": "2021-06-04T18:05:30.908610Z",
     "iopub.status.idle": "2021-06-04T18:05:30.912115Z",
     "shell.execute_reply": "2021-06-04T18:05:30.911589Z"
    },
    "papermill": {
     "duration": 0.036207,
     "end_time": "2021-06-04T18:05:30.912221",
     "exception": false,
     "start_time": "2021-06-04T18:05:30.876014",
     "status": "completed"
    },
    "tags": []
   }
  },
  {
   "cell_type": "code",
   "execution_count": 64,
   "source": [
    "df.shape"
   ],
   "outputs": [
    {
     "output_type": "execute_result",
     "data": {
      "text/plain": [
       "(20000, 15)"
      ]
     },
     "metadata": {},
     "execution_count": 64
    }
   ],
   "metadata": {
    "execution": {
     "iopub.execute_input": "2021-06-04T18:05:31.039019Z",
     "iopub.status.busy": "2021-06-04T18:05:31.038203Z",
     "iopub.status.idle": "2021-06-04T18:05:31.042013Z",
     "shell.execute_reply": "2021-06-04T18:05:31.041603Z"
    },
    "papermill": {
     "duration": 0.036209,
     "end_time": "2021-06-04T18:05:31.042128",
     "exception": false,
     "start_time": "2021-06-04T18:05:31.005919",
     "status": "completed"
    },
    "tags": []
   }
  },
  {
   "cell_type": "code",
   "execution_count": 65,
   "source": [
    "df.duplicated().sum()"
   ],
   "outputs": [
    {
     "output_type": "execute_result",
     "data": {
      "text/plain": [
       "0"
      ]
     },
     "metadata": {},
     "execution_count": 65
    }
   ],
   "metadata": {
    "execution": {
     "iopub.execute_input": "2021-06-04T18:05:31.105539Z",
     "iopub.status.busy": "2021-06-04T18:05:31.104787Z",
     "iopub.status.idle": "2021-06-04T18:05:31.124075Z",
     "shell.execute_reply": "2021-06-04T18:05:31.123561Z"
    },
    "papermill": {
     "duration": 0.052282,
     "end_time": "2021-06-04T18:05:31.124185",
     "exception": false,
     "start_time": "2021-06-04T18:05:31.071903",
     "status": "completed"
    },
    "tags": []
   }
  },
  {
   "cell_type": "code",
   "execution_count": 66,
   "source": [
    "sns.set_theme(style=\"whitegrid\")\r\n",
    "sns.barplot(x='PERFIL', y='NOTA_MF', data=df, color='#1aa3ff')\r\n",
    "plt.xlabel('PERFIL')\r\n",
    "plt.ylabel('NOTA_MF')\r\n",
    "plt.xticks(rotation = 45)\r\n",
    "plt.tight_layout()\r\n",
    "plt.show()"
   ],
   "outputs": [
    {
     "output_type": "display_data",
     "data": {
      "image/png": "[encoded data removed]",
      "text/plain": [
       "<Figure size 432x288 with 1 Axes>"
      ]
     },
     "metadata": {}
    }
   ],
   "metadata": {
    "execution": {
     "iopub.execute_input": "2021-06-04T18:05:31.461712Z",
     "iopub.status.busy": "2021-06-04T18:05:31.461020Z",
     "iopub.status.idle": "2021-06-04T18:05:31.939788Z",
     "shell.execute_reply": "2021-06-04T18:05:31.939343Z"
    },
    "papermill": {
     "duration": 0.520214,
     "end_time": "2021-06-04T18:05:31.939918",
     "exception": false,
     "start_time": "2021-06-04T18:05:31.419704",
     "status": "completed"
    },
    "tags": []
   }
  },
  {
   "cell_type": "code",
   "execution_count": 67,
   "source": [
    "df2 = df.rank()"
   ],
   "outputs": [],
   "metadata": {
    "execution": {
     "iopub.execute_input": "2021-06-04T18:05:32.008038Z",
     "iopub.status.busy": "2021-06-04T18:05:32.007155Z",
     "iopub.status.idle": "2021-06-04T18:05:32.327372Z",
     "shell.execute_reply": "2021-06-04T18:05:32.326909Z"
    },
    "papermill": {
     "duration": 0.355855,
     "end_time": "2021-06-04T18:05:32.327501",
     "exception": false,
     "start_time": "2021-06-04T18:05:31.971646",
     "status": "completed"
    },
    "tags": []
   }
  },
  {
   "cell_type": "code",
   "execution_count": 68,
   "source": [
    "plt.figure(figsize=(9, 9))\r\n",
    "sns.heatmap(df2.loc[:,['REPROVACOES_DE','REPROVACOES_EM','REPROVACOES_MF','REPROVACOES_GO',\r\n",
    "                         'NOTA_DE','NOTA_EM','NOTA_MF','NOTA_GO','H_AULA_PRES', 'TAREFAS_ONLINE', \r\n",
    "                         'FALTAS']].corr('spearman'), annot=True, cmap='Blues')\r\n",
    "plt.title('Correlation Heatmap', fontdict={'fontsize':12}, pad=12)"
   ],
   "outputs": [
    {
     "output_type": "execute_result",
     "data": {
      "text/plain": [
       "Text(0.5, 1.0, 'Correlation Heatmap')"
      ]
     },
     "metadata": {},
     "execution_count": 68
    },
    {
     "output_type": "display_data",
     "data": {
      "image/png": "[encoded data removed]",
      "text/plain": [
       "<Figure size 648x648 with 2 Axes>"
      ]
     },
     "metadata": {}
    }
   ],
   "metadata": {
    "execution": {
     "iopub.execute_input": "2021-06-04T18:05:32.398812Z",
     "iopub.status.busy": "2021-06-04T18:05:32.398237Z",
     "iopub.status.idle": "2021-06-04T18:05:33.187823Z",
     "shell.execute_reply": "2021-06-04T18:05:33.188243Z"
    },
    "papermill": {
     "duration": 0.829075,
     "end_time": "2021-06-04T18:05:33.188383",
     "exception": false,
     "start_time": "2021-06-04T18:05:32.359308",
     "status": "completed"
    },
    "tags": []
   }
  },
  {
   "cell_type": "code",
   "execution_count": 69,
   "source": [
    "df['PERFIL'].unique()"
   ],
   "outputs": [
    {
     "output_type": "execute_result",
     "data": {
      "text/plain": [
       "array(['EXATAS', 'HUMANAS', 'DIFICULDADE', 'MUITO_BOM', 'EXCELENTE'],\n",
       "      dtype=object)"
      ]
     },
     "metadata": {},
     "execution_count": 69
    }
   ],
   "metadata": {
    "execution": {
     "iopub.execute_input": "2021-06-04T18:05:33.262901Z",
     "iopub.status.busy": "2021-06-04T18:05:33.262103Z",
     "iopub.status.idle": "2021-06-04T18:05:33.266864Z",
     "shell.execute_reply": "2021-06-04T18:05:33.266409Z"
    },
    "papermill": {
     "duration": 0.044122,
     "end_time": "2021-06-04T18:05:33.266975",
     "exception": false,
     "start_time": "2021-06-04T18:05:33.222853",
     "status": "completed"
    },
    "tags": []
   }
  },
  {
   "cell_type": "code",
   "execution_count": 70,
   "source": [
    "df['PERFIL'].value_counts(ascending=True)"
   ],
   "outputs": [
    {
     "output_type": "execute_result",
     "data": {
      "text/plain": [
       "EXCELENTE       671\n",
       "MUITO_BOM       902\n",
       "HUMANAS        3196\n",
       "DIFICULDADE    7001\n",
       "EXATAS         8230\n",
       "Name: PERFIL, dtype: int64"
      ]
     },
     "metadata": {},
     "execution_count": 70
    }
   ],
   "metadata": {
    "execution": {
     "iopub.execute_input": "2021-06-04T18:05:33.685135Z",
     "iopub.status.busy": "2021-06-04T18:05:33.684449Z",
     "iopub.status.idle": "2021-06-04T18:05:33.689450Z",
     "shell.execute_reply": "2021-06-04T18:05:33.689020Z"
    },
    "papermill": {
     "duration": 0.049064,
     "end_time": "2021-06-04T18:05:33.689552",
     "exception": false,
     "start_time": "2021-06-04T18:05:33.640488",
     "status": "completed"
    },
    "tags": []
   }
  },
  {
   "cell_type": "markdown",
   "source": [
    "Target Transformation"
   ],
   "metadata": {}
  },
  {
   "cell_type": "code",
   "execution_count": 86,
   "source": [
    "labelencoder = LabelEncoder()\r\n",
    "df['PERFIL'] = labelencoder.fit_transform(df['PERFIL'])"
   ],
   "outputs": [],
   "metadata": {
    "execution": {
     "iopub.execute_input": "2021-06-04T18:05:33.771706Z",
     "iopub.status.busy": "2021-06-04T18:05:33.770604Z",
     "iopub.status.idle": "2021-06-04T18:05:33.773377Z",
     "shell.execute_reply": "2021-06-04T18:05:33.772976Z"
    },
    "papermill": {
     "duration": 0.048472,
     "end_time": "2021-06-04T18:05:33.773479",
     "exception": false,
     "start_time": "2021-06-04T18:05:33.725007",
     "status": "completed"
    },
    "tags": []
   }
  },
  {
   "cell_type": "code",
   "execution_count": 87,
   "source": [
    "#Define X and Y\r\n",
    "features  = ['REPROVACOES_DE','REPROVACOES_EM','REPROVACOES_MF','REPROVACOES_GO',\r\n",
    "            'NOTA_DE','NOTA_EM','NOTA_MF','NOTA_GO','H_AULA_PRES', 'TAREFAS_ONLINE', 'FALTAS']\r\n",
    "X = df[features]\r\n",
    "y = df.PERFIL"
   ],
   "outputs": [],
   "metadata": {}
  },
  {
   "cell_type": "code",
   "execution_count": 88,
   "source": [
    "X.head()"
   ],
   "outputs": [
    {
     "output_type": "execute_result",
     "data": {
      "text/html": [
       "<div>\n",
       "<style scoped>\n",
       "    .dataframe tbody tr th:only-of-type {\n",
       "        vertical-align: middle;\n",
       "    }\n",
       "\n",
       "    .dataframe tbody tr th {\n",
       "        vertical-align: top;\n",
       "    }\n",
       "\n",
       "    .dataframe thead th {\n",
       "        text-align: right;\n",
       "    }\n",
       "</style>\n",
       "<table border=\"1\" class=\"dataframe\">\n",
       "  <thead>\n",
       "    <tr style=\"text-align: right;\">\n",
       "      <th></th>\n",
       "      <th>REPROVACOES_DE</th>\n",
       "      <th>REPROVACOES_EM</th>\n",
       "      <th>REPROVACOES_MF</th>\n",
       "      <th>REPROVACOES_GO</th>\n",
       "      <th>NOTA_DE</th>\n",
       "      <th>NOTA_EM</th>\n",
       "      <th>NOTA_MF</th>\n",
       "      <th>NOTA_GO</th>\n",
       "      <th>H_AULA_PRES</th>\n",
       "      <th>TAREFAS_ONLINE</th>\n",
       "      <th>FALTAS</th>\n",
       "    </tr>\n",
       "  </thead>\n",
       "  <tbody>\n",
       "    <tr>\n",
       "      <th>0</th>\n",
       "      <td>0</td>\n",
       "      <td>0</td>\n",
       "      <td>0</td>\n",
       "      <td>0</td>\n",
       "      <td>6.2</td>\n",
       "      <td>5.8</td>\n",
       "      <td>4.6</td>\n",
       "      <td>5.9</td>\n",
       "      <td>2</td>\n",
       "      <td>4</td>\n",
       "      <td>3</td>\n",
       "    </tr>\n",
       "    <tr>\n",
       "      <th>1</th>\n",
       "      <td>0</td>\n",
       "      <td>0</td>\n",
       "      <td>0</td>\n",
       "      <td>0</td>\n",
       "      <td>6.0</td>\n",
       "      <td>6.2</td>\n",
       "      <td>5.2</td>\n",
       "      <td>4.5</td>\n",
       "      <td>2</td>\n",
       "      <td>4</td>\n",
       "      <td>3</td>\n",
       "    </tr>\n",
       "    <tr>\n",
       "      <th>2</th>\n",
       "      <td>0</td>\n",
       "      <td>0</td>\n",
       "      <td>0</td>\n",
       "      <td>0</td>\n",
       "      <td>7.3</td>\n",
       "      <td>6.7</td>\n",
       "      <td>7.1</td>\n",
       "      <td>7.2</td>\n",
       "      <td>5</td>\n",
       "      <td>0</td>\n",
       "      <td>3</td>\n",
       "    </tr>\n",
       "    <tr>\n",
       "      <th>3</th>\n",
       "      <td>1</td>\n",
       "      <td>3</td>\n",
       "      <td>1</td>\n",
       "      <td>1</td>\n",
       "      <td>0.0</td>\n",
       "      <td>0.0</td>\n",
       "      <td>0.0</td>\n",
       "      <td>0.0</td>\n",
       "      <td>4</td>\n",
       "      <td>4</td>\n",
       "      <td>4</td>\n",
       "    </tr>\n",
       "    <tr>\n",
       "      <th>4</th>\n",
       "      <td>1</td>\n",
       "      <td>3</td>\n",
       "      <td>1</td>\n",
       "      <td>1</td>\n",
       "      <td>0.0</td>\n",
       "      <td>0.0</td>\n",
       "      <td>0.0</td>\n",
       "      <td>0.0</td>\n",
       "      <td>5</td>\n",
       "      <td>2</td>\n",
       "      <td>5</td>\n",
       "    </tr>\n",
       "  </tbody>\n",
       "</table>\n",
       "</div>"
      ],
      "text/plain": [
       "   REPROVACOES_DE  REPROVACOES_EM  REPROVACOES_MF  REPROVACOES_GO  NOTA_DE  \\\n",
       "0               0               0               0               0      6.2   \n",
       "1               0               0               0               0      6.0   \n",
       "2               0               0               0               0      7.3   \n",
       "3               1               3               1               1      0.0   \n",
       "4               1               3               1               1      0.0   \n",
       "\n",
       "   NOTA_EM  NOTA_MF  NOTA_GO  H_AULA_PRES  TAREFAS_ONLINE  FALTAS  \n",
       "0      5.8      4.6      5.9            2               4       3  \n",
       "1      6.2      5.2      4.5            2               4       3  \n",
       "2      6.7      7.1      7.2            5               0       3  \n",
       "3      0.0      0.0      0.0            4               4       4  \n",
       "4      0.0      0.0      0.0            5               2       5  "
      ]
     },
     "metadata": {},
     "execution_count": 88
    }
   ],
   "metadata": {
    "execution": {
     "iopub.execute_input": "2021-06-04T18:05:34.098905Z",
     "iopub.status.busy": "2021-06-04T18:05:34.098071Z",
     "iopub.status.idle": "2021-06-04T18:05:34.101926Z",
     "shell.execute_reply": "2021-06-04T18:05:34.101510Z"
    },
    "papermill": {
     "duration": 0.052165,
     "end_time": "2021-06-04T18:05:34.102043",
     "exception": false,
     "start_time": "2021-06-04T18:05:34.049878",
     "status": "completed"
    },
    "tags": []
   }
  },
  {
   "cell_type": "code",
   "execution_count": 89,
   "source": [
    "sm = SMOTE(sampling_strategy='minority',random_state=42)"
   ],
   "outputs": [],
   "metadata": {
    "execution": {
     "iopub.execute_input": "2021-06-04T18:05:34.180702Z",
     "iopub.status.busy": "2021-06-04T18:05:34.179933Z",
     "iopub.status.idle": "2021-06-04T18:05:34.182361Z",
     "shell.execute_reply": "2021-06-04T18:05:34.182856Z"
    },
    "papermill": {
     "duration": 0.043679,
     "end_time": "2021-06-04T18:05:34.182973",
     "exception": false,
     "start_time": "2021-06-04T18:05:34.139294",
     "status": "completed"
    },
    "tags": []
   }
  },
  {
   "cell_type": "code",
   "execution_count": 90,
   "source": [
    "X, y = sm.fit_resample(X, y)"
   ],
   "outputs": [],
   "metadata": {
    "execution": {
     "iopub.execute_input": "2021-06-04T18:05:34.260897Z",
     "iopub.status.busy": "2021-06-04T18:05:34.260122Z",
     "iopub.status.idle": "2021-06-04T18:05:34.284270Z",
     "shell.execute_reply": "2021-06-04T18:05:34.283716Z"
    },
    "papermill": {
     "duration": 0.064475,
     "end_time": "2021-06-04T18:05:34.284380",
     "exception": false,
     "start_time": "2021-06-04T18:05:34.219905",
     "status": "completed"
    },
    "tags": []
   }
  },
  {
   "cell_type": "code",
   "execution_count": 91,
   "source": [
    "X_train, X_test, y_train, y_test = train_test_split(X, y,test_size=0.20, random_state=42, stratify=y)"
   ],
   "outputs": [],
   "metadata": {
    "execution": {
     "iopub.execute_input": "2021-06-04T18:05:34.363650Z",
     "iopub.status.busy": "2021-06-04T18:05:34.362886Z",
     "iopub.status.idle": "2021-06-04T18:05:34.384519Z",
     "shell.execute_reply": "2021-06-04T18:05:34.384117Z"
    },
    "papermill": {
     "duration": 0.06273,
     "end_time": "2021-06-04T18:05:34.384628",
     "exception": false,
     "start_time": "2021-06-04T18:05:34.321898",
     "status": "completed"
    },
    "tags": []
   }
  },
  {
   "cell_type": "code",
   "execution_count": 92,
   "source": [
    "X_train.shape"
   ],
   "outputs": [
    {
     "output_type": "execute_result",
     "data": {
      "text/plain": [
       "(22047, 11)"
      ]
     },
     "metadata": {},
     "execution_count": 92
    }
   ],
   "metadata": {
    "execution": {
     "iopub.execute_input": "2021-06-04T18:05:34.463469Z",
     "iopub.status.busy": "2021-06-04T18:05:34.462686Z",
     "iopub.status.idle": "2021-06-04T18:05:34.466114Z",
     "shell.execute_reply": "2021-06-04T18:05:34.466476Z"
    },
    "papermill": {
     "duration": 0.044257,
     "end_time": "2021-06-04T18:05:34.466596",
     "exception": false,
     "start_time": "2021-06-04T18:05:34.422339",
     "status": "completed"
    },
    "tags": []
   }
  },
  {
   "cell_type": "code",
   "execution_count": 93,
   "source": [
    "X_test.shape"
   ],
   "outputs": [
    {
     "output_type": "execute_result",
     "data": {
      "text/plain": [
       "(5512, 11)"
      ]
     },
     "metadata": {},
     "execution_count": 93
    }
   ],
   "metadata": {
    "execution": {
     "iopub.execute_input": "2021-06-04T18:05:34.546256Z",
     "iopub.status.busy": "2021-06-04T18:05:34.545450Z",
     "iopub.status.idle": "2021-06-04T18:05:34.549226Z",
     "shell.execute_reply": "2021-06-04T18:05:34.548824Z"
    },
    "papermill": {
     "duration": 0.04525,
     "end_time": "2021-06-04T18:05:34.549327",
     "exception": false,
     "start_time": "2021-06-04T18:05:34.504077",
     "status": "completed"
    },
    "tags": []
   }
  },
  {
   "cell_type": "code",
   "execution_count": 94,
   "source": [
    "model1 = xgb.XGBClassifier(max_depth=10, n_estimators=50, use_label_encoder=False,num_class=5, learning_rate=0.04,reg_alpha=0,reg_lambda=1,eval_metric ='merror',  \r\n",
    "                              booster='gbtree',objective='multi:softprob')\r\n",
    "\r\n",
    "model1.fit(X_train,y_train, \r\n",
    "          verbose=True,\r\n",
    "          early_stopping_rounds=10,\r\n",
    "          eval_set=[(X_test,y_test)])\r\n",
    "print(model1)"
   ],
   "outputs": [
    {
     "output_type": "stream",
     "name": "stdout",
     "text": [
      "[0]\tvalidation_0-merror:0.14822\n",
      "[1]\tvalidation_0-merror:0.14586\n",
      "[2]\tvalidation_0-merror:0.14786\n",
      "[3]\tvalidation_0-merror:0.14750\n",
      "[4]\tvalidation_0-merror:0.14605\n",
      "[5]\tvalidation_0-merror:0.14459\n",
      "[6]\tvalidation_0-merror:0.14532\n",
      "[7]\tvalidation_0-merror:0.14350\n",
      "[8]\tvalidation_0-merror:0.14278\n",
      "[9]\tvalidation_0-merror:0.14278\n",
      "[10]\tvalidation_0-merror:0.14260\n",
      "[11]\tvalidation_0-merror:0.14187\n",
      "[12]\tvalidation_0-merror:0.14133\n",
      "[13]\tvalidation_0-merror:0.14133\n",
      "[14]\tvalidation_0-merror:0.14024\n",
      "[15]\tvalidation_0-merror:0.14097\n",
      "[16]\tvalidation_0-merror:0.14042\n",
      "[17]\tvalidation_0-merror:0.14078\n",
      "[18]\tvalidation_0-merror:0.14115\n",
      "[19]\tvalidation_0-merror:0.14115\n",
      "[20]\tvalidation_0-merror:0.14115\n",
      "[21]\tvalidation_0-merror:0.14042\n",
      "[22]\tvalidation_0-merror:0.14115\n",
      "[23]\tvalidation_0-merror:0.14006\n",
      "[24]\tvalidation_0-merror:0.13988\n",
      "[25]\tvalidation_0-merror:0.13915\n",
      "[26]\tvalidation_0-merror:0.13970\n",
      "[27]\tvalidation_0-merror:0.13988\n",
      "[28]\tvalidation_0-merror:0.14006\n",
      "[29]\tvalidation_0-merror:0.13970\n",
      "[30]\tvalidation_0-merror:0.13970\n",
      "[31]\tvalidation_0-merror:0.13933\n",
      "[32]\tvalidation_0-merror:0.13988\n",
      "[33]\tvalidation_0-merror:0.13988\n",
      "[34]\tvalidation_0-merror:0.13951\n",
      "[35]\tvalidation_0-merror:0.13933\n",
      "XGBClassifier(base_score=0.5, booster='gbtree', colsample_bylevel=1,\n",
      "              colsample_bynode=1, colsample_bytree=1, eval_metric='merror',\n",
      "              gamma=0, gpu_id=-1, importance_type='gain',\n",
      "              interaction_constraints='', learning_rate=0.04, max_delta_step=0,\n",
      "              max_depth=10, min_child_weight=1, missing=nan,\n",
      "              monotone_constraints='()', n_estimators=50, n_jobs=4, num_class=5,\n",
      "              num_parallel_tree=1, objective='multi:softprob', random_state=0,\n",
      "              reg_alpha=0, reg_lambda=1, scale_pos_weight=None, subsample=1,\n",
      "              tree_method='exact', use_label_encoder=False,\n",
      "              validate_parameters=1, verbosity=None)\n"
     ]
    }
   ],
   "metadata": {
    "execution": {
     "iopub.execute_input": "2021-06-04T18:05:34.630233Z",
     "iopub.status.busy": "2021-06-04T18:05:34.629474Z",
     "iopub.status.idle": "2021-06-04T18:05:48.534662Z",
     "shell.execute_reply": "2021-06-04T18:05:48.534213Z"
    },
    "papermill": {
     "duration": 13.947605,
     "end_time": "2021-06-04T18:05:48.534798",
     "exception": false,
     "start_time": "2021-06-04T18:05:34.587193",
     "status": "completed"
    },
    "tags": []
   }
  },
  {
   "cell_type": "code",
   "execution_count": 95,
   "source": [
    "score = model1.score(X_train,y_train)\r\n",
    "print(score)"
   ],
   "outputs": [
    {
     "output_type": "stream",
     "name": "stdout",
     "text": [
      "0.8981267292602169\n"
     ]
    }
   ],
   "metadata": {
    "execution": {
     "iopub.execute_input": "2021-06-04T18:06:03.836705Z",
     "iopub.status.busy": "2021-06-04T18:06:03.835999Z",
     "iopub.status.idle": "2021-06-04T18:06:04.171785Z",
     "shell.execute_reply": "2021-06-04T18:06:04.172818Z"
    },
    "papermill": {
     "duration": 0.43181,
     "end_time": "2021-06-04T18:06:04.173075",
     "exception": false,
     "start_time": "2021-06-04T18:06:03.741265",
     "status": "completed"
    },
    "tags": []
   }
  },
  {
   "cell_type": "code",
   "execution_count": 96,
   "source": [
    "y_pred = model1.predict(X_test)\r\n",
    "print('Preditions : \\n',y_pred[0:10])"
   ],
   "outputs": [
    {
     "output_type": "stream",
     "name": "stdout",
     "text": [
      "Preditions : \n",
      " [1 3 0 1 2 0 3 2 1 1]\n"
     ]
    }
   ],
   "metadata": {
    "execution": {
     "iopub.execute_input": "2021-06-04T18:06:04.366632Z",
     "iopub.status.busy": "2021-06-04T18:06:04.365931Z",
     "iopub.status.idle": "2021-06-04T18:06:04.449707Z",
     "shell.execute_reply": "2021-06-04T18:06:04.450208Z"
    },
    "papermill": {
     "duration": 0.183954,
     "end_time": "2021-06-04T18:06:04.450371",
     "exception": false,
     "start_time": "2021-06-04T18:06:04.266417",
     "status": "completed"
    },
    "tags": []
   }
  },
  {
   "cell_type": "code",
   "execution_count": 97,
   "source": [
    "print('True Labels:\\n', y_test[0:10])"
   ],
   "outputs": [
    {
     "output_type": "stream",
     "name": "stdout",
     "text": [
      "True Labels:\n",
      " 17570    1\n",
      "1098     3\n",
      "12617    0\n",
      "15030    1\n",
      "25246    2\n",
      "18401    0\n",
      "6206     3\n",
      "23696    2\n",
      "16959    1\n",
      "11835    1\n",
      "Name: PERFIL, dtype: int32\n"
     ]
    }
   ],
   "metadata": {}
  },
  {
   "cell_type": "code",
   "execution_count": 98,
   "source": [
    "# Get the classification report\r\n",
    "print(classification_report(y_test, y_pred))"
   ],
   "outputs": [
    {
     "output_type": "stream",
     "name": "stdout",
     "text": [
      "              precision    recall  f1-score   support\n",
      "\n",
      "           0       0.90      0.75      0.82      1400\n",
      "           1       0.80      0.92      0.86      1646\n",
      "           2       0.93      0.98      0.95      1646\n",
      "           3       0.81      0.87      0.84       639\n",
      "           4       0.23      0.03      0.06       181\n",
      "\n",
      "    accuracy                           0.86      5512\n",
      "   macro avg       0.73      0.71      0.70      5512\n",
      "weighted avg       0.85      0.86      0.85      5512\n",
      "\n"
     ]
    }
   ],
   "metadata": {
    "execution": {
     "iopub.execute_input": "2021-06-04T18:06:04.642727Z",
     "iopub.status.busy": "2021-06-04T18:06:04.641950Z",
     "iopub.status.idle": "2021-06-04T18:06:04.656977Z",
     "shell.execute_reply": "2021-06-04T18:06:04.657804Z"
    },
    "papermill": {
     "duration": 0.111317,
     "end_time": "2021-06-04T18:06:04.657980",
     "exception": false,
     "start_time": "2021-06-04T18:06:04.546663",
     "status": "completed"
    },
    "tags": []
   }
  },
  {
   "cell_type": "code",
   "execution_count": 99,
   "source": [
    "plt.rcParams['figure.figsize'] = (7, 7)\r\n",
    "xgb.plot_importance(model1, height=0.5)\r\n",
    "plt.tight_layout()\r\n",
    "plt.show()"
   ],
   "outputs": [
    {
     "output_type": "display_data",
     "data": {
      "image/png": "[encoded data removed]",
      "text/plain": [
       "<Figure size 504x504 with 1 Axes>"
      ]
     },
     "metadata": {}
    }
   ],
   "metadata": {
    "execution": {
     "iopub.execute_input": "2021-06-04T18:06:04.847632Z",
     "iopub.status.busy": "2021-06-04T18:06:04.846736Z",
     "iopub.status.idle": "2021-06-04T18:06:05.390763Z",
     "shell.execute_reply": "2021-06-04T18:06:05.391307Z"
    },
    "papermill": {
     "duration": 0.64089,
     "end_time": "2021-06-04T18:06:05.391476",
     "exception": false,
     "start_time": "2021-06-04T18:06:04.750586",
     "status": "completed"
    },
    "tags": []
   }
  },
  {
   "cell_type": "code",
   "execution_count": 100,
   "source": [
    "dtrain = xgb.DMatrix(X_train, label=y_train)"
   ],
   "outputs": [],
   "metadata": {
    "execution": {
     "iopub.execute_input": "2021-06-04T18:06:06.780304Z",
     "iopub.status.busy": "2021-06-04T18:06:06.779528Z",
     "iopub.status.idle": "2021-06-04T18:06:06.787336Z",
     "shell.execute_reply": "2021-06-04T18:06:06.787807Z"
    },
    "papermill": {
     "duration": 0.10854,
     "end_time": "2021-06-04T18:06:06.787973",
     "exception": false,
     "start_time": "2021-06-04T18:06:06.679433",
     "status": "completed"
    },
    "tags": []
   }
  },
  {
   "cell_type": "code",
   "execution_count": 101,
   "source": [
    "params = {'max_depth':20, 'eta': 1, 'objective': 'multi:softprob', 'eval_metric':['merror'], 'num_class':5, 'learning_rate':0.03,\r\n",
    "         'reg_alpha':0, 'reg_lambda':1}"
   ],
   "outputs": [],
   "metadata": {
    "execution": {
     "iopub.execute_input": "2021-06-04T18:06:06.986539Z",
     "iopub.status.busy": "2021-06-04T18:06:06.985724Z",
     "iopub.status.idle": "2021-06-04T18:06:06.988538Z",
     "shell.execute_reply": "2021-06-04T18:06:06.988091Z"
    },
    "papermill": {
     "duration": 0.102461,
     "end_time": "2021-06-04T18:06:06.988650",
     "exception": false,
     "start_time": "2021-06-04T18:06:06.886189",
     "status": "completed"
    },
    "tags": []
   }
  },
  {
   "cell_type": "code",
   "execution_count": 102,
   "source": [
    "cov_res=xgb.cv(params, nfold=10, dtrain=dtrain)"
   ],
   "outputs": [],
   "metadata": {
    "execution": {
     "iopub.execute_input": "2021-06-04T18:06:07.190859Z",
     "iopub.status.busy": "2021-06-04T18:06:07.190119Z",
     "iopub.status.idle": "2021-06-04T18:06:13.680654Z",
     "shell.execute_reply": "2021-06-04T18:06:13.681474Z"
    },
    "papermill": {
     "duration": 6.593462,
     "end_time": "2021-06-04T18:06:13.681656",
     "exception": false,
     "start_time": "2021-06-04T18:06:07.088194",
     "status": "completed"
    },
    "tags": []
   }
  },
  {
   "cell_type": "code",
   "execution_count": 103,
   "source": [
    "cov_res.head()"
   ],
   "outputs": [
    {
     "output_type": "execute_result",
     "data": {
      "text/html": [
       "<div>\n",
       "<style scoped>\n",
       "    .dataframe tbody tr th:only-of-type {\n",
       "        vertical-align: middle;\n",
       "    }\n",
       "\n",
       "    .dataframe tbody tr th {\n",
       "        vertical-align: top;\n",
       "    }\n",
       "\n",
       "    .dataframe thead th {\n",
       "        text-align: right;\n",
       "    }\n",
       "</style>\n",
       "<table border=\"1\" class=\"dataframe\">\n",
       "  <thead>\n",
       "    <tr style=\"text-align: right;\">\n",
       "      <th></th>\n",
       "      <th>train-merror-mean</th>\n",
       "      <th>train-merror-std</th>\n",
       "      <th>test-merror-mean</th>\n",
       "      <th>test-merror-std</th>\n",
       "    </tr>\n",
       "  </thead>\n",
       "  <tbody>\n",
       "    <tr>\n",
       "      <th>0</th>\n",
       "      <td>0.093306</td>\n",
       "      <td>0.001701</td>\n",
       "      <td>0.157028</td>\n",
       "      <td>0.004145</td>\n",
       "    </tr>\n",
       "    <tr>\n",
       "      <th>1</th>\n",
       "      <td>0.088629</td>\n",
       "      <td>0.001293</td>\n",
       "      <td>0.155939</td>\n",
       "      <td>0.005458</td>\n",
       "    </tr>\n",
       "    <tr>\n",
       "      <th>2</th>\n",
       "      <td>0.085464</td>\n",
       "      <td>0.001017</td>\n",
       "      <td>0.154624</td>\n",
       "      <td>0.004095</td>\n",
       "    </tr>\n",
       "    <tr>\n",
       "      <th>3</th>\n",
       "      <td>0.083075</td>\n",
       "      <td>0.001249</td>\n",
       "      <td>0.153716</td>\n",
       "      <td>0.002981</td>\n",
       "    </tr>\n",
       "    <tr>\n",
       "      <th>4</th>\n",
       "      <td>0.081059</td>\n",
       "      <td>0.001145</td>\n",
       "      <td>0.153172</td>\n",
       "      <td>0.002988</td>\n",
       "    </tr>\n",
       "  </tbody>\n",
       "</table>\n",
       "</div>"
      ],
      "text/plain": [
       "   train-merror-mean  train-merror-std  test-merror-mean  test-merror-std\n",
       "0           0.093306          0.001701          0.157028         0.004145\n",
       "1           0.088629          0.001293          0.155939         0.005458\n",
       "2           0.085464          0.001017          0.154624         0.004095\n",
       "3           0.083075          0.001249          0.153716         0.002981\n",
       "4           0.081059          0.001145          0.153172         0.002988"
      ]
     },
     "metadata": {},
     "execution_count": 103
    }
   ],
   "metadata": {
    "execution": {
     "iopub.execute_input": "2021-06-04T18:06:13.881642Z",
     "iopub.status.busy": "2021-06-04T18:06:13.881111Z",
     "iopub.status.idle": "2021-06-04T18:06:13.886981Z",
     "shell.execute_reply": "2021-06-04T18:06:13.887357Z"
    },
    "papermill": {
     "duration": 0.109427,
     "end_time": "2021-06-04T18:06:13.887490",
     "exception": false,
     "start_time": "2021-06-04T18:06:13.778063",
     "status": "completed"
    },
    "tags": []
   }
  },
  {
   "cell_type": "code",
   "execution_count": 104,
   "source": [
    "kfold = KFold(n_splits=2, shuffle=True, random_state=42)"
   ],
   "outputs": [],
   "metadata": {
    "execution": {
     "iopub.execute_input": "2021-06-04T18:06:14.080662Z",
     "iopub.status.busy": "2021-06-04T18:06:14.080155Z",
     "iopub.status.idle": "2021-06-04T18:06:14.084013Z",
     "shell.execute_reply": "2021-06-04T18:06:14.083595Z"
    },
    "papermill": {
     "duration": 0.102238,
     "end_time": "2021-06-04T18:06:14.084135",
     "exception": false,
     "start_time": "2021-06-04T18:06:13.981897",
     "status": "completed"
    },
    "tags": []
   }
  },
  {
   "cell_type": "code",
   "execution_count": 105,
   "source": [
    "results = cross_val_score(model1, X, y, cv=kfold)"
   ],
   "outputs": [],
   "metadata": {}
  },
  {
   "cell_type": "code",
   "execution_count": 106,
   "source": [
    "param_grid = { \r\n",
    "    'eta':[0.5,1],\r\n",
    "    'colsample_bytree':[0.5,1],\r\n",
    "    'learning_rate':[0.2,0.3],\r\n",
    "    'max_depth':[50],\r\n",
    "    'subsample':[0.5,1],\r\n",
    "    'n_estimators': [20]\r\n",
    "}"
   ],
   "outputs": [],
   "metadata": {
    "execution": {
     "iopub.execute_input": "2021-06-04T18:06:14.283304Z",
     "iopub.status.busy": "2021-06-04T18:06:14.282600Z",
     "iopub.status.idle": "2021-06-04T18:06:14.285525Z",
     "shell.execute_reply": "2021-06-04T18:06:14.285022Z"
    },
    "papermill": {
     "duration": 0.103505,
     "end_time": "2021-06-04T18:06:14.285648",
     "exception": false,
     "start_time": "2021-06-04T18:06:14.182143",
     "status": "completed"
    },
    "tags": []
   }
  },
  {
   "cell_type": "code",
   "execution_count": 107,
   "source": [
    "model_Grid = GridSearchCV(estimator = model1,param_grid = param_grid)\r\n",
    "model_Grid.fit(X_train,y_train)\r\n",
    "print(model_Grid.best_params_)"
   ],
   "outputs": [
    {
     "output_type": "stream",
     "name": "stdout",
     "text": [
      "{'colsample_bytree': 0.5, 'eta': 0.5, 'learning_rate': 0.2, 'max_depth': 50, 'n_estimators': 20, 'subsample': 1}\n"
     ]
    }
   ],
   "metadata": {
    "execution": {
     "iopub.execute_input": "2021-06-04T18:06:14.675721Z",
     "iopub.status.busy": "2021-06-04T18:06:14.674959Z",
     "iopub.status.idle": "2021-06-04T19:40:24.284699Z",
     "shell.execute_reply": "2021-06-04T19:40:24.285144Z"
    },
    "papermill": {
     "duration": 5649.709734,
     "end_time": "2021-06-04T19:40:24.285340",
     "exception": false,
     "start_time": "2021-06-04T18:06:14.575606",
     "status": "completed"
    },
    "tags": []
   }
  },
  {
   "cell_type": "code",
   "execution_count": 108,
   "source": [
    "model2 = xgb.XGBClassifier(booster='gbtree', \r\n",
    "                            max_depth=20,\r\n",
    "                            eta=0.5,\r\n",
    "                            subsample=1, \r\n",
    "                            n_estimators=50, \r\n",
    "                            use_label_encoder=False,\r\n",
    "                            num_class=5, \r\n",
    "                            learning_rate=0.2,\r\n",
    "                            eval_metric ='merror',\r\n",
    "                            objective='multi:softprob', \r\n",
    "                            colsample_bytree=0.5)"
   ],
   "outputs": [],
   "metadata": {
    "execution": {
     "iopub.execute_input": "2021-06-04T19:40:24.527849Z",
     "iopub.status.busy": "2021-06-04T19:40:24.527287Z",
     "iopub.status.idle": "2021-06-04T19:40:24.531036Z",
     "shell.execute_reply": "2021-06-04T19:40:24.530583Z"
    },
    "papermill": {
     "duration": 0.150233,
     "end_time": "2021-06-04T19:40:24.531141",
     "exception": false,
     "start_time": "2021-06-04T19:40:24.380908",
     "status": "completed"
    },
    "tags": []
   }
  },
  {
   "cell_type": "code",
   "execution_count": 109,
   "source": [
    "model2.fit(X_train,y_train)"
   ],
   "outputs": [
    {
     "output_type": "execute_result",
     "data": {
      "text/plain": [
       "XGBClassifier(base_score=0.5, booster='gbtree', colsample_bylevel=1,\n",
       "              colsample_bynode=1, colsample_bytree=0.5, eta=0.5,\n",
       "              eval_metric='merror', gamma=0, gpu_id=-1, importance_type='gain',\n",
       "              interaction_constraints='', learning_rate=0.2, max_delta_step=0,\n",
       "              max_depth=20, min_child_weight=1, missing=nan,\n",
       "              monotone_constraints='()', n_estimators=50, n_jobs=4, num_class=5,\n",
       "              num_parallel_tree=1, objective='multi:softprob', random_state=0,\n",
       "              reg_alpha=0, reg_lambda=1, scale_pos_weight=None, subsample=1,\n",
       "              tree_method='exact', use_label_encoder=False,\n",
       "              validate_parameters=1, ...)"
      ]
     },
     "metadata": {},
     "execution_count": 109
    }
   ],
   "metadata": {
    "execution": {
     "iopub.execute_input": "2021-06-04T19:40:24.723843Z",
     "iopub.status.busy": "2021-06-04T19:40:24.723105Z",
     "iopub.status.idle": "2021-06-04T19:40:29.175551Z",
     "shell.execute_reply": "2021-06-04T19:40:29.174644Z"
    },
    "papermill": {
     "duration": 4.550422,
     "end_time": "2021-06-04T19:40:29.175686",
     "exception": false,
     "start_time": "2021-06-04T19:40:24.625264",
     "status": "completed"
    },
    "tags": []
   }
  },
  {
   "cell_type": "code",
   "execution_count": 110,
   "source": [
    "predict = model2.predict(X_test)"
   ],
   "outputs": [],
   "metadata": {
    "execution": {
     "iopub.execute_input": "2021-06-04T19:40:29.371956Z",
     "iopub.status.busy": "2021-06-04T19:40:29.371285Z",
     "iopub.status.idle": "2021-06-04T19:40:29.419794Z",
     "shell.execute_reply": "2021-06-04T19:40:29.420538Z"
    },
    "papermill": {
     "duration": 0.149907,
     "end_time": "2021-06-04T19:40:29.420691",
     "exception": false,
     "start_time": "2021-06-04T19:40:29.270784",
     "status": "completed"
    },
    "tags": []
   }
  },
  {
   "cell_type": "code",
   "execution_count": 111,
   "source": [
    "print(classification_report(y_test, y_pred))"
   ],
   "outputs": [
    {
     "output_type": "stream",
     "name": "stdout",
     "text": [
      "              precision    recall  f1-score   support\n",
      "\n",
      "           0       0.90      0.75      0.82      1400\n",
      "           1       0.80      0.92      0.86      1646\n",
      "           2       0.93      0.98      0.95      1646\n",
      "           3       0.81      0.87      0.84       639\n",
      "           4       0.23      0.03      0.06       181\n",
      "\n",
      "    accuracy                           0.86      5512\n",
      "   macro avg       0.73      0.71      0.70      5512\n",
      "weighted avg       0.85      0.86      0.85      5512\n",
      "\n"
     ]
    }
   ],
   "metadata": {}
  }
 ],
 "metadata": {
  "kernelspec": {
   "name": "python3",
   "display_name": "Python 3.9.6 64-bit ('.env': venv)"
  },
  "language_info": {
   "codemirror_mode": {
    "name": "ipython",
    "version": 3
   },
   "file_extension": ".py",
   "mimetype": "text/x-python",
   "name": "python",
   "nbconvert_exporter": "python",
   "pygments_lexer": "ipython3",
   "version": "3.9.6"
  },
  "papermill": {
   "default_parameters": {},
   "duration": 5723.043971,
   "end_time": "2021-06-04T19:40:30.527604",
   "environment_variables": {},
   "exception": null,
   "input_path": "__notebook__.ipynb",
   "output_path": "__notebook__.ipynb",
   "parameters": {},
   "start_time": "2021-06-04T18:05:07.483633",
   "version": "2.3.2"
  },
  "interpreter": {
   "hash": "2e1196e720b692b8627bcce13ebaedcfe3bb5b998ff22bc9654b179a288d23cf"
  }
 },
 "nbformat": 4,
 "nbformat_minor": 5
}