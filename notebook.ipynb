{
 "cells": [
  {
   "cell_type": "markdown",
   "metadata": {
    "papermill": {
     "duration": 0.02626,
     "end_time": "2021-06-04T18:05:12.493156",
     "exception": false,
     "start_time": "2021-06-04T18:05:12.466896",
     "status": "completed"
    },
    "tags": []
   },
   "source": [
    "Mentoring has been identified as an essential component in the development academic and profisional. \n",
    "\n",
    "The purpose is the better understanding of the mentoring experiences of graduate students enrolled at college. \n",
    "\n",
    "In this Notebook, used data analysis to provide personalized student mentoring, recommendations based on their profile.\n",
    "\n",
    "The dataset used in this exercise is based https://github.com/maratonadev-br/desafio-2-2020/tree/master/Assets/Data."
   ]
  },
  {
   "cell_type": "code",
   "execution_count": null,
   "metadata": {
    "execution": {
     "iopub.execute_input": "2021-06-04T18:05:25.923804Z",
     "iopub.status.busy": "2021-06-04T18:05:25.923264Z",
     "iopub.status.idle": "2021-06-04T18:05:30.403759Z",
     "shell.execute_reply": "2021-06-04T18:05:30.402665Z"
    },
    "papermill": {
     "duration": 4.51824,
     "end_time": "2021-06-04T18:05:30.403900",
     "exception": false,
     "start_time": "2021-06-04T18:05:25.885660",
     "status": "completed"
    },
    "tags": []
   },
   "outputs": [],
   "source": [
    "import pandas as pd\n",
    "import numpy as np\n",
    "%matplotlib inline\n",
    "import matplotlib.pyplot as plt\n",
    "import seaborn as sns\n",
    "from sklearn.utils import class_weight\n",
    "from sklearn.model_selection import train_test_split\n",
    "from sklearn.metrics import confusion_matrix\n",
    "from sklearn.model_selection import cross_val_score\n",
    "from imblearn.ensemble import BalancedRandomForestClassifier\n",
    "from sklearn.metrics import classification_report"
   ]
  },
  {
   "cell_type": "markdown",
   "metadata": {},
   "source": [
    "Features :\n",
    "\n",
    "Student enrollment\n",
    "\n",
    "Name \n",
    "\n",
    "Number of  students that flunked  in the Business Law Discipline\n",
    "\n",
    "Number of  students that flunked in the Entrepreneurship Discipline\n",
    "\n",
    "Number of  students that flunked in the Financial Mathematics Discipline\n",
    "\n",
    "Number of students that flunked in the  Operational Management Discipline\n",
    "\n",
    "Grade point average of students in the Business Law Exam\n",
    "\n",
    "Grade point average of students in the Entrepreneurship Exam\n",
    "\n",
    "Grade point average of students in the Financial Mathematics Exam\n",
    "\n",
    "Grade point average of students in the Operational Management Exam\n",
    "\n",
    "English - Binary variable  that indicates If the student has  knowledge of the English Language (No==0 or Yes==1)\n",
    "\n",
    "Study time attendance completed by students\n",
    "\n",
    "Number of tasks handed online submission by students\n",
    "\n",
    "Number of students absent\n",
    "\n",
    "Target Variable Categorical:\n",
    "\n",
    "Profile \n",
    "\n",
    "Excellent\n",
    "\n",
    "Very Good\n",
    "\n",
    "Human\n",
    "\n",
    "Exact\n",
    "\n",
    "Difficulty"
   ]
  },
  {
   "cell_type": "code",
   "execution_count": null,
   "metadata": {
    "execution": {
     "iopub.execute_input": "2021-06-04T18:05:30.468951Z",
     "iopub.status.busy": "2021-06-04T18:05:30.468391Z",
     "iopub.status.idle": "2021-06-04T18:05:30.530247Z",
     "shell.execute_reply": "2021-06-04T18:05:30.529354Z"
    },
    "papermill": {
     "duration": 0.098835,
     "end_time": "2021-06-04T18:05:30.530383",
     "exception": false,
     "start_time": "2021-06-04T18:05:30.431548",
     "status": "completed"
    },
    "tags": []
   },
   "outputs": [],
   "source": [
    "df = pd.read_csv('data/dataset.csv')"
   ]
  },
  {
   "cell_type": "markdown",
   "metadata": {
    "papermill": {
     "duration": 0.027299,
     "end_time": "2021-06-04T18:05:30.585536",
     "exception": false,
     "start_time": "2021-06-04T18:05:30.558237",
     "status": "completed"
    },
    "tags": []
   },
   "source": [
    "# Exploratory Data Analysis "
   ]
  },
  {
   "cell_type": "code",
   "execution_count": null,
   "metadata": {
    "execution": {
     "iopub.execute_input": "2021-06-04T18:05:30.652174Z",
     "iopub.status.busy": "2021-06-04T18:05:30.651370Z",
     "iopub.status.idle": "2021-06-04T18:05:30.666510Z",
     "shell.execute_reply": "2021-06-04T18:05:30.667093Z"
    },
    "papermill": {
     "duration": 0.05421,
     "end_time": "2021-06-04T18:05:30.667271",
     "exception": false,
     "start_time": "2021-06-04T18:05:30.613061",
     "status": "completed"
    },
    "tags": []
   },
   "outputs": [],
   "source": [
    "df.info()"
   ]
  },
  {
   "cell_type": "code",
   "execution_count": null,
   "metadata": {
    "execution": {
     "iopub.execute_input": "2021-06-04T18:05:30.733421Z",
     "iopub.status.busy": "2021-06-04T18:05:30.732780Z",
     "iopub.status.idle": "2021-06-04T18:05:30.776189Z",
     "shell.execute_reply": "2021-06-04T18:05:30.776582Z"
    },
    "papermill": {
     "duration": 0.080157,
     "end_time": "2021-06-04T18:05:30.776716",
     "exception": false,
     "start_time": "2021-06-04T18:05:30.696559",
     "status": "completed"
    },
    "tags": []
   },
   "outputs": [],
   "source": [
    "df.loc[:,['REPROVACOES_DE','REPROVACOES_EM','REPROVACOES_MF','REPROVACOES_GO',\n",
    "         'NOTA_DE','NOTA_EM','NOTA_MF','NOTA_GO','H_AULA_PRES', 'TAREFAS_ONLINE', \n",
    "         'FALTAS']].describe()"
   ]
  },
  {
   "cell_type": "code",
   "execution_count": null,
   "metadata": {},
   "outputs": [],
   "source": [
    "#Create histogram for each columns \n",
    "inputs = ['NOTA_DE','NOTA_EM','NOTA_MF','NOTA_GO']\n",
    "for col in inputs:\n",
    "        df.hist(column=col, bins=16, figsize=(6,6),color='#1aa3ff')\n",
    "        plt.title(col)\n",
    "plt.tight_layout()\n",
    "plt.show()"
   ]
  },
  {
   "cell_type": "markdown",
   "metadata": {},
   "source": [
    "Handling missing values"
   ]
  },
  {
   "cell_type": "code",
   "execution_count": null,
   "metadata": {
    "execution": {
     "iopub.execute_input": "2021-06-04T18:05:30.841896Z",
     "iopub.status.busy": "2021-06-04T18:05:30.841144Z",
     "iopub.status.idle": "2021-06-04T18:05:30.847317Z",
     "shell.execute_reply": "2021-06-04T18:05:30.846877Z"
    },
    "papermill": {
     "duration": 0.042078,
     "end_time": "2021-06-04T18:05:30.847423",
     "exception": false,
     "start_time": "2021-06-04T18:05:30.805345",
     "status": "completed"
    },
    "tags": []
   },
   "outputs": [],
   "source": [
    "#Checking missing values\n",
    "df.isnull().sum()"
   ]
  },
  {
   "cell_type": "code",
   "execution_count": null,
   "metadata": {
    "execution": {
     "iopub.execute_input": "2021-06-04T18:05:30.909387Z",
     "iopub.status.busy": "2021-06-04T18:05:30.908610Z",
     "iopub.status.idle": "2021-06-04T18:05:30.912115Z",
     "shell.execute_reply": "2021-06-04T18:05:30.911589Z"
    },
    "papermill": {
     "duration": 0.036207,
     "end_time": "2021-06-04T18:05:30.912221",
     "exception": false,
     "start_time": "2021-06-04T18:05:30.876014",
     "status": "completed"
    },
    "tags": []
   },
   "outputs": [],
   "source": [
    "#Replacing missing values\n",
    "df.fillna(0,inplace=True)"
   ]
  },
  {
   "cell_type": "code",
   "execution_count": null,
   "metadata": {
    "execution": {
     "iopub.execute_input": "2021-06-04T18:05:31.039019Z",
     "iopub.status.busy": "2021-06-04T18:05:31.038203Z",
     "iopub.status.idle": "2021-06-04T18:05:31.042013Z",
     "shell.execute_reply": "2021-06-04T18:05:31.041603Z"
    },
    "papermill": {
     "duration": 0.036209,
     "end_time": "2021-06-04T18:05:31.042128",
     "exception": false,
     "start_time": "2021-06-04T18:05:31.005919",
     "status": "completed"
    },
    "tags": []
   },
   "outputs": [],
   "source": [
    "df.shape"
   ]
  },
  {
   "cell_type": "code",
   "execution_count": null,
   "metadata": {
    "execution": {
     "iopub.execute_input": "2021-06-04T18:05:31.105539Z",
     "iopub.status.busy": "2021-06-04T18:05:31.104787Z",
     "iopub.status.idle": "2021-06-04T18:05:31.124075Z",
     "shell.execute_reply": "2021-06-04T18:05:31.123561Z"
    },
    "papermill": {
     "duration": 0.052282,
     "end_time": "2021-06-04T18:05:31.124185",
     "exception": false,
     "start_time": "2021-06-04T18:05:31.071903",
     "status": "completed"
    },
    "tags": []
   },
   "outputs": [],
   "source": [
    "df.duplicated().sum()"
   ]
  },
  {
   "cell_type": "code",
   "execution_count": null,
   "metadata": {
    "execution": {
     "iopub.execute_input": "2021-06-04T18:05:31.461712Z",
     "iopub.status.busy": "2021-06-04T18:05:31.461020Z",
     "iopub.status.idle": "2021-06-04T18:05:31.939788Z",
     "shell.execute_reply": "2021-06-04T18:05:31.939343Z"
    },
    "papermill": {
     "duration": 0.520214,
     "end_time": "2021-06-04T18:05:31.939918",
     "exception": false,
     "start_time": "2021-06-04T18:05:31.419704",
     "status": "completed"
    },
    "tags": []
   },
   "outputs": [],
   "source": [
    "sns.set_theme(style=\"whitegrid\")\n",
    "sns.barplot(x='PERFIL', y='NOTA_MF', data=df, color='#1aa3ff')\n",
    "plt.xlabel('PERFIL')\n",
    "plt.ylabel('NOTA_MF')\n",
    "plt.xticks(rotation = 45)\n",
    "plt.tight_layout()\n",
    "plt.show()"
   ]
  },
  {
   "cell_type": "code",
   "execution_count": null,
   "metadata": {
    "execution": {
     "iopub.execute_input": "2021-06-04T18:05:33.262901Z",
     "iopub.status.busy": "2021-06-04T18:05:33.262103Z",
     "iopub.status.idle": "2021-06-04T18:05:33.266864Z",
     "shell.execute_reply": "2021-06-04T18:05:33.266409Z"
    },
    "papermill": {
     "duration": 0.044122,
     "end_time": "2021-06-04T18:05:33.266975",
     "exception": false,
     "start_time": "2021-06-04T18:05:33.222853",
     "status": "completed"
    },
    "tags": []
   },
   "outputs": [],
   "source": [
    "df['PERFIL'].unique()"
   ]
  },
  {
   "cell_type": "code",
   "execution_count": null,
   "metadata": {
    "execution": {
     "iopub.execute_input": "2021-06-04T18:05:33.685135Z",
     "iopub.status.busy": "2021-06-04T18:05:33.684449Z",
     "iopub.status.idle": "2021-06-04T18:05:33.689450Z",
     "shell.execute_reply": "2021-06-04T18:05:33.689020Z"
    },
    "papermill": {
     "duration": 0.049064,
     "end_time": "2021-06-04T18:05:33.689552",
     "exception": false,
     "start_time": "2021-06-04T18:05:33.640488",
     "status": "completed"
    },
    "tags": []
   },
   "outputs": [],
   "source": [
    "df['PERFIL'].value_counts(ascending=True)"
   ]
  },
  {
   "cell_type": "code",
   "execution_count": null,
   "metadata": {},
   "outputs": [],
   "source": [
    "#Define X and y\n",
    "features  = ['REPROVACOES_DE','REPROVACOES_EM','REPROVACOES_MF','REPROVACOES_GO',\n",
    "            'NOTA_DE','NOTA_EM','NOTA_MF','NOTA_GO','H_AULA_PRES', 'TAREFAS_ONLINE', 'FALTAS']\n",
    "X = df[features]\n",
    "y = df.PERFIL"
   ]
  },
  {
   "cell_type": "code",
   "execution_count": null,
   "metadata": {
    "execution": {
     "iopub.execute_input": "2021-06-04T18:05:34.098905Z",
     "iopub.status.busy": "2021-06-04T18:05:34.098071Z",
     "iopub.status.idle": "2021-06-04T18:05:34.101926Z",
     "shell.execute_reply": "2021-06-04T18:05:34.101510Z"
    },
    "papermill": {
     "duration": 0.052165,
     "end_time": "2021-06-04T18:05:34.102043",
     "exception": false,
     "start_time": "2021-06-04T18:05:34.049878",
     "status": "completed"
    },
    "tags": []
   },
   "outputs": [],
   "source": [
    "X.head()"
   ]
  },
  {
   "cell_type": "code",
   "execution_count": null,
   "metadata": {
    "execution": {
     "iopub.execute_input": "2021-06-04T18:05:34.363650Z",
     "iopub.status.busy": "2021-06-04T18:05:34.362886Z",
     "iopub.status.idle": "2021-06-04T18:05:34.384519Z",
     "shell.execute_reply": "2021-06-04T18:05:34.384117Z"
    },
    "papermill": {
     "duration": 0.06273,
     "end_time": "2021-06-04T18:05:34.384628",
     "exception": false,
     "start_time": "2021-06-04T18:05:34.321898",
     "status": "completed"
    },
    "tags": []
   },
   "outputs": [],
   "source": [
    "X_train, X_test, y_train, y_test = train_test_split(X, y,test_size=0.20, random_state=0, stratify=y)"
   ]
  },
  {
   "cell_type": "code",
   "execution_count": null,
   "metadata": {
    "execution": {
     "iopub.execute_input": "2021-06-04T18:05:34.463469Z",
     "iopub.status.busy": "2021-06-04T18:05:34.462686Z",
     "iopub.status.idle": "2021-06-04T18:05:34.466114Z",
     "shell.execute_reply": "2021-06-04T18:05:34.466476Z"
    },
    "papermill": {
     "duration": 0.044257,
     "end_time": "2021-06-04T18:05:34.466596",
     "exception": false,
     "start_time": "2021-06-04T18:05:34.422339",
     "status": "completed"
    },
    "tags": []
   },
   "outputs": [],
   "source": [
    "X_train.shape"
   ]
  },
  {
   "cell_type": "code",
   "execution_count": null,
   "metadata": {
    "execution": {
     "iopub.execute_input": "2021-06-04T18:05:34.546256Z",
     "iopub.status.busy": "2021-06-04T18:05:34.545450Z",
     "iopub.status.idle": "2021-06-04T18:05:34.549226Z",
     "shell.execute_reply": "2021-06-04T18:05:34.548824Z"
    },
    "papermill": {
     "duration": 0.04525,
     "end_time": "2021-06-04T18:05:34.549327",
     "exception": false,
     "start_time": "2021-06-04T18:05:34.504077",
     "status": "completed"
    },
    "tags": []
   },
   "outputs": [],
   "source": [
    "X_test.shape"
   ]
  },
  {
   "cell_type": "code",
   "execution_count": null,
   "metadata": {},
   "outputs": [],
   "source": [
    "clf = BalancedRandomForestClassifier(class_weight='balanced', \n",
    "                                      max_depth=20, \n",
    "                                      random_state=1, \n",
    "                                      replacement=True)"
   ]
  },
  {
   "cell_type": "code",
   "execution_count": null,
   "metadata": {},
   "outputs": [],
   "source": [
    "clf.fit(X_train,y_train)"
   ]
  },
  {
   "cell_type": "code",
   "execution_count": null,
   "metadata": {},
   "outputs": [],
   "source": [
    "score = clf.score(X_train,y_train)\n",
    "print(score)"
   ]
  },
  {
   "cell_type": "code",
   "execution_count": null,
   "metadata": {},
   "outputs": [],
   "source": [
    "y_pred = clf.predict(X_test)\n",
    "print('Preditions : \\n',y_pred[0:10])"
   ]
  },
  {
   "cell_type": "code",
   "execution_count": null,
   "metadata": {},
   "outputs": [],
   "source": [
    "print('True Labels: \\n', y_test[0:10])"
   ]
  },
  {
   "cell_type": "code",
   "execution_count": null,
   "metadata": {},
   "outputs": [],
   "source": [
    "conf_matrix = confusion_matrix(y_test, y_pred)\n",
    "print(conf_matrix)"
   ]
  },
  {
   "cell_type": "code",
   "execution_count": 25,
   "metadata": {},
   "outputs": [],
   "source": [
    "#classes = ['EXATAS', 'HUMANAS', 'DIFICULDADE', 'MUITO_BOM', 'EXCELENTE']\n",
    "plt.imshow(conf_matrix, interpolation=\"nearest\", cmap=plt.cm.Blues)\n",
    "plt.colorbar()\n",
    "tick_marks = np.arange(len(y_train))\n",
    "plt.xticks(tick_marks, y_train, rotation=45)\n",
    "plt.yticks(tick_marks, y_train)\n",
    "plt.xlabel(\"Predicted Profile\")\n",
    "plt.ylabel(\"Actual Profile\")\n",
    "plt.show()"
   ]
  },
  {
   "cell_type": "code",
   "execution_count": null,
   "metadata": {},
   "outputs": [],
   "source": [
    "print(classification_report(y_test, y_pred))"
   ]
  },
  {
   "cell_type": "code",
   "execution_count": null,
   "metadata": {},
   "outputs": [],
   "source": []
  }
 ],
 "metadata": {
  "interpreter": {
   "hash": "2e1196e720b692b8627bcce13ebaedcfe3bb5b998ff22bc9654b179a288d23cf"
  },
  "kernelspec": {
   "display_name": "Python 3.9.6 64-bit ('.env': venv)",
   "name": "python3"
  },
  "language_info": {
   "codemirror_mode": {
    "name": "ipython",
    "version": 3
   },
   "file_extension": ".py",
   "mimetype": "text/x-python",
   "name": "python",
   "nbconvert_exporter": "python",
   "pygments_lexer": "ipython3",
   "version": "3.9.6"
  },
  "papermill": {
   "default_parameters": {},
   "duration": 5723.043971,
   "end_time": "2021-06-04T19:40:30.527604",
   "environment_variables": {},
   "exception": null,
   "input_path": "__notebook__.ipynb",
   "output_path": "__notebook__.ipynb",
   "parameters": {},
   "start_time": "2021-06-04T18:05:07.483633",
   "version": "2.3.2"
  }
 },
 "nbformat": 4,
 "nbformat_minor": 5
}
